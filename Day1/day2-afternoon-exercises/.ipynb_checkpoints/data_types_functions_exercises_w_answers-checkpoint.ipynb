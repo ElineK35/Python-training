{
 "cells": [
  {
   "cell_type": "markdown",
   "metadata": {},
   "source": [
    "### Data Types and Functions Exercises - With Answers\n",
    "\n",
    "\n",
    "#### Case: Gutenberg Project Popular Downloads\n",
    "\n",
    "Gutenberg is a project that is aiming to distribute the public domain e-books online. It is nice because you can reach many many classical literature piece for free and online.\n",
    "\n",
    "\n",
    "It has a nice the most popular downloads page that you can see the most frequently downloaded e-books from the website: https://www.gutenberg.org/ebooks/search/%3Fsort_order%3Ddownloads\n",
    "\n",
    "\n",
    "We prepared a small application to scrape some information on the given link. The dataset looks like this:\n",
    "\n",
    "```\n",
    "{\n",
    "    \"b_0\": {\"book_name\": \"A Christmas Carol in Prose; Being a Ghost Story of Christmas\",\n",
    "        \"book_author\": \"Charles Dickens\",\n",
    "        \"book_link\": \"/ebooks/46\",\n",
    "        \"book_downloads\": \"65436 downloads\",\n",
    "        \"book_image\": \"/cache/epub/46/pg46.cover.small.jpg\"},\n",
    "    \"b_1\": {\"book_name\": \"Pride and Prejudice\",\n",
    "        \"book_author\": \"Jane Austen\",\n",
    "        \"book_link\": \"/ebooks/1342\",\n",
    "        \"book_downloads\": \"39523 downloads\",\n",
    "        \"book_image\": \"/cache/epub/1342/pg1342.cover.small.jpg\"}\n",
    "}\n",
    "\n",
    "```\n",
    "\n",
    "##### Goal:\n",
    "\n",
    "We will be using Python mostly to exercise on the following topics:\n",
    "\n",
    "* Using json, re, os libraries\n",
    "* List and Dict comprehensions\n",
    "* Using Functions\n",
    "* Loops\n",
    "* Reading and Writing Files\n",
    "    * .json\n",
    "    * .txt\n",
    "    * .csv\n",
    "* And some general Pythonic conventions\n",
    "    * import this\n",
    "    * requirements.txt\n",
    "    * import modules\n",
    "\n",
    "\n",
    "##### Exercises Preperation:\n",
    "\n",
    "Go to your terminal and follow those steps:\n",
    "\n",
    "1. Change the working directory to the current path:\n",
    "```\n",
    "cd <THIS_JUPYTER_NOTEBOOK_PATH>\n",
    "```\n",
    "\n",
    "2. Activate your Python 3.7 environment:\n",
    "```\n",
    "conda activate <YOUR_PYTHON_3.7_VENV_NAME>\n",
    "```\n",
    "\n",
    "3. Install required packages to your environment:\n",
    "```\n",
    "pip3 install -r requirements.txt\n",
    "```"
   ]
  },
  {
   "cell_type": "code",
   "execution_count": 1,
   "metadata": {
    "scrolled": false
   },
   "outputs": [
    {
     "name": "stderr",
     "output_type": "stream",
     "text": [
      "2020-02-01 18:21:18: INFO Cannot get the image in: Moby Dick; Or, The Whale\n",
      "2020-02-01 18:21:18: INFO Cannot get the image in: Et dukkehjem. English\n",
      "2020-02-01 18:21:18: INFO Cannot get the book author in: Beowulf: An Anglo-Saxon Epic Poem\n",
      "2020-02-01 18:21:18: INFO Cannot get the image in: Metamorphosis\n"
     ]
    }
   ],
   "source": [
    "from data_collector.gutenberg_scraper import create_main_dict_for_popular_books\n",
    "\n",
    "MAIN_PAGE = \"https://www.gutenberg.org\"\n",
    "PATH_GUTENBERG_MOST_POP = (MAIN_PAGE +\n",
    "                           \"/ebooks/search/%3Fsort_order%3Ddownloads\")\n",
    "\n",
    "main_dict_for_popular_books = create_main_dict_for_popular_books(PATH_GUTENBERG_MOST_POP)"
   ]
  },
  {
   "cell_type": "code",
   "execution_count": 2,
   "metadata": {},
   "outputs": [],
   "source": [
    "from data_collector.gutenberg_scraper import (\n",
    "    get_book_text_link, request_page_content)"
   ]
  },
  {
   "cell_type": "code",
   "execution_count": 3,
   "metadata": {},
   "outputs": [],
   "source": [
    "def simple_tokenizer(text):\n",
    "    import re\n",
    "    word_regex = re.compile(r\"(\\w+)\")\n",
    "    return re.findall(word_regex, text.lower())"
   ]
  },
  {
   "cell_type": "markdown",
   "metadata": {},
   "source": [
    "### Exercises\n",
    "\n",
    "**1** Write a function to create a list of tuples. Including only the book_name and book_downloads.\n",
    "\n",
    "So the function is going to take:\n",
    "\n",
    "```\n",
    "{\n",
    "    \"b_0\": {\"book_name\": \"A Christmas Carol in Prose; Being a Ghost Story of Christmas\",\n",
    "        \"book_author\": \"Charles Dickens\",\n",
    "        \"book_link\": \"/ebooks/46\",\n",
    "        \"book_downloads\": \"65436 downloads\",\n",
    "        \"book_image\": \"/cache/epub/46/pg46.cover.small.jpg\"},\n",
    "    \"b_1\": {\"book_name\": \"Pride and Prejudice\",\n",
    "        \"book_author\": \"Jane Austen\",\n",
    "        \"book_link\": \"/ebooks/1342\",\n",
    "        \"book_downloads\": \"39523 downloads\",\n",
    "        \"book_image\": \"/cache/epub/1342/pg1342.cover.small.jpg\"}\n",
    "}\n",
    "```\n",
    "\n",
    "And return to:\n",
    "\n",
    "```\n",
    "[('A Christmas Carol in Prose; Being a Ghost Story of Christmas',\n",
    "  '65436 downloads'),\n",
    " ('Pride and Prejudice', '39523 downloads')]\n",
    "```"
   ]
  },
  {
   "cell_type": "code",
   "execution_count": 14,
   "metadata": {},
   "outputs": [],
   "source": [
    "def create_a_list_of_book_name_and_downloads(popular_books_dict):\n",
    "    return [(v[\"book_name\"], v[\"book_downloads\"])\n",
    "            for k, v in popular_books_dict.items()]"
   ]
  },
  {
   "cell_type": "markdown",
   "metadata": {},
   "source": [
    "**2** Write a function to sort book_name and downloads by checking the number of the downloads.\n",
    "\n",
    "* Hint: You can use list sort, by converting the downloads string to an integer.\n",
    "\n",
    "* Hint2: You can use `create_a_list_of_book_name_and_downloads` from the previous exercise.\n",
    "\n",
    "So the function is going to take:\n",
    "\n",
    "```\n",
    "{\n",
    "    \"b_0\": {\"book_name\": \"A Christmas Carol in Prose; Being a Ghost Story of Christmas\",\n",
    "        \"book_author\": \"Charles Dickens\",\n",
    "        \"book_link\": \"/ebooks/46\",\n",
    "        \"book_downloads\": \"65436 downloads\",\n",
    "        \"book_image\": \"/cache/epub/46/pg46.cover.small.jpg\"},\n",
    "    \"b_1\": {\"book_name\": \"Pride and Prejudice\",\n",
    "        \"book_author\": \"Jane Austen\",\n",
    "        \"book_link\": \"/ebooks/1342\",\n",
    "        \"book_downloads\": \"39523 downloads\",\n",
    "        \"book_image\": \"/cache/epub/1342/pg1342.cover.small.jpg\"}\n",
    "}\n",
    "```\n",
    "\n",
    "And return to:\n",
    "\n",
    "```\n",
    "[(39523, 'Pride and Prejudice'),\n",
    " (65436, 'A Christmas Carol in Prose; Being a Ghost Story of Christmas')]\n",
    "```"
   ]
  },
  {
   "cell_type": "code",
   "execution_count": 10,
   "metadata": {},
   "outputs": [],
   "source": [
    "def sort_ascending_the_download_counts_per_book(popular_books_dict):\n",
    "    necessary_info = create_a_list_of_book_name_and_downloads(popular_books_dict)\n",
    "    \n",
    "    return sorted([(int(download.split(\" \")[0]), book_name)\n",
    "                    for book_name, download in necessary_info])"
   ]
  },
  {
   "cell_type": "markdown",
   "metadata": {},
   "source": [
    "**3** Write a function to count words in a text. Use `simple_tokenizer` in the function to make your life easier.\n",
    "\n",
    "So the function is going to take:\n",
    "\n",
    "```\n",
    "\"I love Justin Bieber. He is so talented.\"\n",
    "```\n",
    "\n",
    "And return to:\n",
    "\n",
    "```\n",
    "8\n",
    "```"
   ]
  },
  {
   "cell_type": "code",
   "execution_count": 20,
   "metadata": {},
   "outputs": [],
   "source": [
    "def word_count(text):\n",
    "    return len(simple_tokenizer(text))"
   ]
  },
  {
   "cell_type": "markdown",
   "metadata": {},
   "source": [
    "**4** Write a function with a dictionary that is stating which words are used in the text how many times. Use `simple_tokenizer` in the function to make your life easier.\n",
    "\n",
    "So the function is going to take:\n",
    "\n",
    "```\n",
    "\"I love Justin Bieber. He is so talented.\"\n",
    "```\n",
    "\n",
    "And return to:\n",
    "\n",
    "```\n",
    "{'i': 1,\n",
    " 'love': 1,\n",
    " 'justin': 1,\n",
    " 'bieber': 1,\n",
    " 'he': 1,\n",
    " 'is': 1,\n",
    " 'so': 1,\n",
    " 'talented': 1}\n",
    "```"
   ]
  },
  {
   "cell_type": "code",
   "execution_count": 18,
   "metadata": {},
   "outputs": [],
   "source": [
    "def word_count_with_dict(text):\n",
    "    words = simple_tokenizer(text)\n",
    "    word_count = {}\n",
    "    for w in words:\n",
    "        word_count[w] = word_count.get(w, 0) + 1\n",
    "    return word_count"
   ]
  },
  {
   "cell_type": "markdown",
   "metadata": {},
   "source": [
    "### Extra Exercises (A bit more tiring)\n",
    "\n",
    "Here we have created a function to download book text for a given book link as string.\n",
    "\n",
    "This `download_book_text` takes \"https://www.gutenberg.org/ebooks/46\" and \"A Modest Proposal\" as paramteres. And downloads A Modest Proposal by Jonathan Swift to \"./downloaded_books/A Modest Proposal.txt\" location.\n",
    "\n",
    "There are two extra questions:\n",
    "\n",
    "1. Use `download_book_text` to download all the popular books with their own book name. \n",
    "    a. Use dictionary comprehensions to reach the `book_link` and combine it with the `MAIN_PAGE`.\n",
    "    b. You can create a list of tuples to keep track of `book_link` and `book_names`.\n",
    "    \n",
    "2. By using the downloaded book texts in the previous step, you can count the words in each book. That can be a really interesting analysis.\n",
    "    a. You can use a list of tuples to store all the relevant information about the books.\n",
    "    b. When you know the `book_name` for a corresponding book, you can open the .txt files.\n",
    "    c. When you open the .txt files you can apply `word_count` on the string values."
   ]
  },
  {
   "cell_type": "code",
   "execution_count": 5,
   "metadata": {},
   "outputs": [],
   "source": [
    "def download_book_text(book_link_str, path_name):\n",
    "    book_text_link_path = get_book_text_link(book_link_str)\n",
    "    requested_book_text = request_page_content(MAIN_PAGE + book_text_link_path)\n",
    "    requested_book_text_decoded = requested_book_text.decode(\"utf\")\n",
    "    with open(f\"downloaded_books/{path_name}.txt\", \"w\") as f:\n",
    "        f.write(requested_book_text_decoded)  "
   ]
  },
  {
   "cell_type": "code",
   "execution_count": 9,
   "metadata": {},
   "outputs": [],
   "source": [
    "def download_all_books_as_text(popular_books_dict):\n",
    "    book_info_link_list = [\n",
    "        (book_info[\"book_name\"], MAIN_PAGE + book_info[\"book_link\"])\n",
    "         for book_info in popular_books_dict.values()]\n",
    "    for book_name, book_info_link in book_info_link_list:\n",
    "        download_book_text(book_info_link, book_name)     "
   ]
  },
  {
   "cell_type": "code",
   "execution_count": 10,
   "metadata": {},
   "outputs": [],
   "source": [
    "def count_words_per_book(popular_books_dict):\n",
    "    book_path = \"./downloaded_books/\"\n",
    "    books_info_list = [tuple(x.values())\n",
    "                       for x in main_dict_for_popular_books.values()]\n",
    "    \n",
    "    book_info_list_updated = []\n",
    "    \n",
    "    for book_info in books_info_list:\n",
    "        book_name = book_info[0]\n",
    "        with open(book_path + book_name + \".txt\", \"r\") as opened_book:\n",
    "            opened_book_text = opened_book.read()\n",
    "            \n",
    "        book_info_record = (*book_info, word_count(opened_book_text))\n",
    "        \n",
    "        book_info_list_updated.append(book_info_record)\n",
    "        \n",
    "    return book_info_list_updated"
   ]
  }
 ],
 "metadata": {
  "kernelspec": {
   "display_name": "Python 3",
   "language": "python",
   "name": "python3"
  },
  "language_info": {
   "codemirror_mode": {
    "name": "ipython",
    "version": 3
   },
   "file_extension": ".py",
   "mimetype": "text/x-python",
   "name": "python",
   "nbconvert_exporter": "python",
   "pygments_lexer": "ipython3",
   "version": "3.7.5"
  }
 },
 "nbformat": 4,
 "nbformat_minor": 2
}
