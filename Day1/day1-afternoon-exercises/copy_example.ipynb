{
 "cells": [
  {
   "cell_type": "code",
   "execution_count": 2,
   "metadata": {},
   "outputs": [],
   "source": [
    "import copy\n",
    "\n",
    "X = [[\"A\", \"B\"], \"C\"]\n",
    "\n",
    "copy_X = X\n",
    "\n",
    "deep_copy_X = copy.deepcopy(X)\n",
    "\n",
    "shallow_copy_X = copy.copy(X)"
   ]
  },
  {
   "cell_type": "code",
   "execution_count": 4,
   "metadata": {},
   "outputs": [
    {
     "data": {
      "text/plain": [
       "4346952352"
      ]
     },
     "execution_count": 4,
     "metadata": {},
     "output_type": "execute_result"
    }
   ],
   "source": [
    "id(X)"
   ]
  },
  {
   "cell_type": "code",
   "execution_count": 5,
   "metadata": {},
   "outputs": [
    {
     "data": {
      "text/plain": [
       "4346952352"
      ]
     },
     "execution_count": 5,
     "metadata": {},
     "output_type": "execute_result"
    }
   ],
   "source": [
    "id(copy_X)"
   ]
  },
  {
   "cell_type": "code",
   "execution_count": 6,
   "metadata": {},
   "outputs": [
    {
     "data": {
      "text/plain": [
       "4346904976"
      ]
     },
     "execution_count": 6,
     "metadata": {},
     "output_type": "execute_result"
    }
   ],
   "source": [
    "id(deep_copy_X)"
   ]
  },
  {
   "cell_type": "code",
   "execution_count": 7,
   "metadata": {},
   "outputs": [
    {
     "data": {
      "text/plain": [
       "4347001424"
      ]
     },
     "execution_count": 7,
     "metadata": {},
     "output_type": "execute_result"
    }
   ],
   "source": [
    "id(shallow_copy_X)"
   ]
  },
  {
   "cell_type": "code",
   "execution_count": 8,
   "metadata": {},
   "outputs": [
    {
     "name": "stdout",
     "output_type": "stream",
     "text": [
      "[['A', 'B'], 'C']\n",
      "[['A', 'B'], 'C']\n",
      "[['A', 'B'], 'C']\n",
      "[['A', 'B'], 'C']\n"
     ]
    }
   ],
   "source": [
    "print(copy_X)\n",
    "\n",
    "print(deep_copy_X)\n",
    "\n",
    "print(X)\n",
    "\n",
    "print(shallow_copy_X)"
   ]
  },
  {
   "cell_type": "code",
   "execution_count": 11,
   "metadata": {},
   "outputs": [
    {
     "name": "stdout",
     "output_type": "stream",
     "text": [
      "[['Z', 'B'], 'C']\n",
      "[['M', 'B'], 'C']\n",
      "[['Z', 'B'], 'C']\n",
      "[['Z', 'B'], 'C']\n"
     ]
    }
   ],
   "source": [
    "deep_copy_X[0][0] = \"M\"\n",
    "\n",
    "print(copy_X)\n",
    "\n",
    "print(deep_copy_X)\n",
    "\n",
    "print(X)\n",
    "\n",
    "print(shallow_copy_X)"
   ]
  },
  {
   "cell_type": "code",
   "execution_count": 13,
   "metadata": {},
   "outputs": [
    {
     "name": "stdout",
     "output_type": "stream",
     "text": [
      "[['B', 'B'], 'C']\n",
      "[['B', 'B'], 'C']\n",
      "[['B', 'B'], 'C']\n"
     ]
    }
   ],
   "source": [
    "shallow_copy_X[0][0] = \"B\"\n",
    "\n",
    "print(copy_X)\n",
    "\n",
    "print(X)\n",
    "\n",
    "print(shallow_copy_X)"
   ]
  }
 ],
 "metadata": {
  "kernelspec": {
   "display_name": "Python 3",
   "language": "python",
   "name": "python3"
  },
  "language_info": {
   "codemirror_mode": {
    "name": "ipython",
    "version": 3
   },
   "file_extension": ".py",
   "mimetype": "text/x-python",
   "name": "python",
   "nbconvert_exporter": "python",
   "pygments_lexer": "ipython3",
   "version": "3.7.5"
  }
 },
 "nbformat": 4,
 "nbformat_minor": 2
}
