{
 "cells": [
  {
   "cell_type": "markdown",
   "metadata": {},
   "source": [
    "# Day 1 - Python Bootcamp"
   ]
  },
  {
   "cell_type": "markdown",
   "metadata": {},
   "source": [
    "-------------------------------"
   ]
  },
  {
   "cell_type": "markdown",
   "metadata": {},
   "source": [
    "## Print function"
   ]
  },
  {
   "cell_type": "code",
   "execution_count": 7,
   "metadata": {},
   "outputs": [
    {
     "data": {
      "text/plain": [
       "2"
      ]
     },
     "execution_count": 7,
     "metadata": {},
     "output_type": "execute_result"
    }
   ],
   "source": [
    "1 + 1"
   ]
  },
  {
   "cell_type": "code",
   "execution_count": 8,
   "metadata": {},
   "outputs": [
    {
     "data": {
      "text/plain": [
       "100"
      ]
     },
     "execution_count": 8,
     "metadata": {},
     "output_type": "execute_result"
    }
   ],
   "source": [
    "1 + 1\n",
    "1 * 100"
   ]
  },
  {
   "cell_type": "markdown",
   "metadata": {},
   "source": [
    "The `print` function is used as follows: you write the word `print`, followed by an opening parenthesis, followed by whatever you want to display, followed by a closing parenthesis. For example:"
   ]
  },
  {
   "cell_type": "code",
   "execution_count": 9,
   "metadata": {},
   "outputs": [
    {
     "name": "stdout",
     "output_type": "stream",
     "text": [
      "Hello, world!\n"
     ]
    }
   ],
   "source": [
    "print(\"Hello, world!\")"
   ]
  },
  {
   "cell_type": "code",
   "execution_count": 10,
   "metadata": {},
   "outputs": [
    {
     "name": "stdout",
     "output_type": "stream",
     "text": [
      "2\n",
      "100\n"
     ]
    }
   ],
   "source": [
    "print(1 + 1)\n",
    "print(1 * 100)"
   ]
  },
  {
   "cell_type": "markdown",
   "metadata": {},
   "source": [
    "You can display multiple things with one `print()` function by putting everything that you want to display between the parentheses with commas in between. The `print()` function will then display all of the items, with one space in between each pair or them. For example:"
   ]
  },
  {
   "cell_type": "code",
   "execution_count": 12,
   "metadata": {},
   "outputs": [
    {
     "name": "stdout",
     "output_type": "stream",
     "text": [
      "Ufuk Eline Filip Michael Luka Alexia Daniela 2020\n"
     ]
    }
   ],
   "source": [
    "print(\"Ufuk\",\"Eline\",\"Filip\", \"Michael\", \"Luka\", \"Alexia\", \"Daniela\", 2020)"
   ]
  },
  {
   "cell_type": "markdown",
   "metadata": {},
   "source": [
    "-------------------------------"
   ]
  },
  {
   "cell_type": "markdown",
   "metadata": {},
   "source": [
    "## Primitive Data Types"
   ]
  },
  {
   "cell_type": "markdown",
   "metadata": {},
   "source": [
    "-------------------------------"
   ]
  },
  {
   "cell_type": "markdown",
   "metadata": {},
   "source": [
    "## integer"
   ]
  },
  {
   "cell_type": "markdown",
   "metadata": {},
   "source": [
    "------"
   ]
  },
  {
   "cell_type": "code",
   "execution_count": 15,
   "metadata": {},
   "outputs": [
    {
     "name": "stdout",
     "output_type": "stream",
     "text": [
      "100000000000000000000\n",
      "<class 'int'>\n"
     ]
    }
   ],
   "source": [
    "number = 20\n",
    "negative_number = -20\n",
    "zero = 0\n",
    "\n",
    "# there is only one integer type in python from python 2.7+ onwards\n",
    "a_very_large_number = 100000000000000000000\n",
    "print(a_very_large_number)\n",
    "print(type(a_very_large_number)) # type inferencing"
   ]
  },
  {
   "cell_type": "markdown",
   "metadata": {},
   "source": [
    "------"
   ]
  },
  {
   "cell_type": "markdown",
   "metadata": {},
   "source": [
    "## Float"
   ]
  },
  {
   "cell_type": "markdown",
   "metadata": {},
   "source": [
    "-----"
   ]
  },
  {
   "cell_type": "code",
   "execution_count": 16,
   "metadata": {},
   "outputs": [],
   "source": [
    "decimal_number = 42.34\n",
    "decimal_number_2 = 30.533399"
   ]
  },
  {
   "cell_type": "markdown",
   "metadata": {},
   "source": [
    "to check if something is of a specific type, we can use the `isinstance` function"
   ]
  },
  {
   "cell_type": "code",
   "execution_count": 5,
   "metadata": {},
   "outputs": [
    {
     "data": {
      "text/plain": [
       "True"
      ]
     },
     "execution_count": 5,
     "metadata": {},
     "output_type": "execute_result"
    }
   ],
   "source": [
    "isinstance(4.5, float)"
   ]
  },
  {
   "cell_type": "code",
   "execution_count": 7,
   "metadata": {},
   "outputs": [
    {
     "name": "stdout",
     "output_type": "stream",
     "text": [
      "5 5.0\n",
      "True\n"
     ]
    }
   ],
   "source": [
    "int_five = 5\n",
    "\n",
    "decimal_five = float(int_five)\n",
    "# returns 5.0\n",
    "\n",
    "print(int_five, decimal_five)\n",
    "print(int_five == decimal_five)"
   ]
  },
  {
   "cell_type": "markdown",
   "metadata": {},
   "source": [
    "-----"
   ]
  },
  {
   "cell_type": "markdown",
   "metadata": {},
   "source": [
    "example with the `round` function:"
   ]
  },
  {
   "cell_type": "code",
   "execution_count": 9,
   "metadata": {},
   "outputs": [
    {
     "name": "stdout",
     "output_type": "stream",
     "text": [
      "50.13\n"
     ]
    }
   ],
   "source": [
    "print(round(50.13456, 2))"
   ]
  },
  {
   "cell_type": "code",
   "execution_count": 24,
   "metadata": {},
   "outputs": [
    {
     "data": {
      "text/plain": [
       "<function round(number, ndigits=None)>"
      ]
     },
     "execution_count": 24,
     "metadata": {},
     "output_type": "execute_result"
    }
   ],
   "source": [
    "# show function signature\n",
    "round"
   ]
  },
  {
   "cell_type": "markdown",
   "metadata": {},
   "source": [
    "# String"
   ]
  },
  {
   "cell_type": "markdown",
   "metadata": {},
   "source": [
    "-----"
   ]
  },
  {
   "cell_type": "code",
   "execution_count": 13,
   "metadata": {},
   "outputs": [
    {
     "name": "stdout",
     "output_type": "stream",
     "text": [
      "Hello, my name is Anis\n",
      "I like to play football \n",
      "and I love my job\n",
      "\n",
      "Number is rounded to two digits: (50.13456, 2) :  50.13\n"
     ]
    }
   ],
   "source": [
    "first_string = \"LINKIT\"\n",
    "second_string = 'LINKIT'\n",
    "a_very_long_string = \"\"\"Hello, my name is Anis\n",
    "I like to play football \n",
    "and I love my job\"\"\"\n",
    "\n",
    "print(a_very_long_string)\n",
    "print()\n",
    "print(\"Number is rounded to two digits: (50.13456, 2) : \", round(50.13456, 2))"
   ]
  },
  {
   "cell_type": "markdown",
   "metadata": {},
   "source": [
    "## Boolean"
   ]
  },
  {
   "cell_type": "markdown",
   "metadata": {},
   "source": [
    "-----"
   ]
  },
  {
   "cell_type": "code",
   "execution_count": 39,
   "metadata": {},
   "outputs": [
    {
     "name": "stdout",
     "output_type": "stream",
     "text": [
      "<class 'bool'> <class 'bool'>\n",
      "False\n",
      "True\n"
     ]
    }
   ],
   "source": [
    "boolean = True\n",
    "another_bool = False\n",
    "print(type(boolean), type(another_bool))\n",
    "\n",
    "print(1 == 2)\n",
    "print(\"Anis\" not in [\"Ufuk\",\"Eline\",\"Filip\", \"Michael\", \"Luka\", \"Alexia\", \"Daniela\"])"
   ]
  },
  {
   "cell_type": "markdown",
   "metadata": {},
   "source": [
    "## variables"
   ]
  },
  {
   "cell_type": "markdown",
   "metadata": {},
   "source": [
    "-----"
   ]
  },
  {
   "cell_type": "markdown",
   "metadata": {},
   "source": [
    "When you assign a value to a variable name in your program, the first time you do that for a specific variable name, it creates the variable. If later in the program you assign another value to the same variable name, it \"overwrites\" the previous value. In the box metaphor: you empty the box and put something else in it. A variable always holds the value that was last assigned to it."
   ]
  },
  {
   "cell_type": "code",
   "execution_count": 37,
   "metadata": {},
   "outputs": [
    {
     "name": "stdout",
     "output_type": "stream",
     "text": [
      "5\n",
      "76\n",
      "I'm learning Python!\n",
      "-24\n"
     ]
    }
   ],
   "source": [
    "x = 5\n",
    "print( x )\n",
    "x = 7 * 9 + 13   # overwrite the previous value that was stored in x\n",
    "print( x )\n",
    "x = \"I'm learning Python!\"\n",
    "print( x )\n",
    "x = int( 15 / 4 ) - 27\n",
    "print( x )"
   ]
  },
  {
   "cell_type": "markdown",
   "metadata": {},
   "source": [
    "Note that a variable must be created before you can use it! Running the following code will result in an error, because my_favorite_car has not (yet) been created before we use it on the first line:"
   ]
  },
  {
   "cell_type": "code",
   "execution_count": 40,
   "metadata": {},
   "outputs": [
    {
     "ename": "NameError",
     "evalue": "name 'my_favorite_car' is not defined",
     "output_type": "error",
     "traceback": [
      "\u001b[0;31m---------------------------------------------------------------------------\u001b[0m",
      "\u001b[0;31mNameError\u001b[0m                                 Traceback (most recent call last)",
      "\u001b[0;32m<ipython-input-40-ccca2477287a>\u001b[0m in \u001b[0;36m<module>\u001b[0;34m\u001b[0m\n\u001b[0;32m----> 1\u001b[0;31m \u001b[0mprint\u001b[0m\u001b[0;34m(\u001b[0m\u001b[0mmy_favorite_car\u001b[0m\u001b[0;34m)\u001b[0m\u001b[0;34m\u001b[0m\u001b[0;34m\u001b[0m\u001b[0m\n\u001b[0m\u001b[1;32m      2\u001b[0m \u001b[0mmy_favorite_car\u001b[0m \u001b[0;34m=\u001b[0m \u001b[0;34m\"Tesla\"\u001b[0m\u001b[0;34m\u001b[0m\u001b[0;34m\u001b[0m\u001b[0m\n",
      "\u001b[0;31mNameError\u001b[0m: name 'my_favorite_car' is not defined"
     ]
    }
   ],
   "source": [
    "print(my_favorite_car)\n",
    "my_favorite_car = \"Tesla\""
   ]
  },
  {
   "cell_type": "markdown",
   "metadata": {},
   "source": [
    "## Comparisons"
   ]
  },
  {
   "cell_type": "markdown",
   "metadata": {},
   "source": [
    "-----"
   ]
  },
  {
   "cell_type": "markdown",
   "metadata": {},
   "source": [
    "You can use the comparison operators to compare both numbers and strings. Comparison for strings is an alphabetical comparison, whereby all capitals come before all lower case letters (and digits come before both of them)."
   ]
  },
  {
   "cell_type": "code",
   "execution_count": 41,
   "metadata": {},
   "outputs": [
    {
     "name": "stdout",
     "output_type": "stream",
     "text": [
      "1. True\n",
      "2. True\n",
      "3. False\n",
      "4. True\n",
      "5. True\n",
      "6. False\n",
      "7. True\n",
      "8. False\n",
      "9. False\n",
      "10. True\n",
      "11. True\n",
      "12. True\n",
      "13. False\n"
     ]
    }
   ],
   "source": [
    "print( \"1.\", 2 < 5 )\n",
    "print( \"2.\", 2 <= 5 )\n",
    "print( \"3.\", 3 > 3 )\n",
    "print( \"4.\", 3 >= 3 )\n",
    "print( \"5.\", 3 == 3.0 )\n",
    "print( \"6.\", 3 == \"3\" )\n",
    "print( \"7.\", \"syntax\" == \"syntax\" )\n",
    "print( \"8.\", \"syntax\" == \"semantics\" )\n",
    "print( \"9.\", \"syntax\" == \" syntax\" )\n",
    "print( \"10.\", \"Python\" != \"rubbish\" )\n",
    "print( \"11.\", \"Python\" > \"Perl\" )\n",
    "print( \"12.\", \"banana\" < \"orange\" )\n",
    "print( \"13.\", \"banana\" < \"Orange\" )"
   ]
  },
  {
   "cell_type": "markdown",
   "metadata": {},
   "source": [
    "------"
   ]
  },
  {
   "cell_type": "markdown",
   "metadata": {},
   "source": [
    "## `in` operator"
   ]
  },
  {
   "cell_type": "code",
   "execution_count": 43,
   "metadata": {},
   "outputs": [
    {
     "name": "stdout",
     "output_type": "stream",
     "text": [
      "True\n",
      "False\n",
      "False\n",
      "True\n",
      "False\n",
      "False\n"
     ]
    }
   ],
   "source": [
    "print( \"y\" in \"Python\" )\n",
    "print( \"x\" in \"Python\" )\n",
    "print( \"p\" in \"Python\" )\n",
    "print( \"th\" in \"Python\" )\n",
    "print( \"to\" in \"Python\" )\n",
    "print( \"y\" not in \"Python\" )"
   ]
  },
  {
   "cell_type": "markdown",
   "metadata": {},
   "source": [
    "-----"
   ]
  },
  {
   "cell_type": "markdown",
   "metadata": {},
   "source": [
    "Boolean expressions are processed from left to right, and Python will stop the processing of an expression when it already knows whether it will end in True or False. Take, for instance, the following code:"
   ]
  },
  {
   "cell_type": "code",
   "execution_count": 42,
   "metadata": {},
   "outputs": [
    {
     "name": "stdout",
     "output_type": "stream",
     "text": [
      "True\n"
     ]
    }
   ],
   "source": [
    "x = 1\n",
    "y = 0\n",
    "print( (x == 0) or (y == 0) or (x / y == 1) )"
   ]
  },
  {
   "cell_type": "markdown",
   "metadata": {},
   "source": [
    "## Conditional statements"
   ]
  },
  {
   "cell_type": "code",
   "execution_count": 44,
   "metadata": {},
   "outputs": [
    {
     "name": "stdout",
     "output_type": "stream",
     "text": [
      "x equals 5\n"
     ]
    }
   ],
   "source": [
    "x = 5\n",
    "if x == 5:\n",
    "    print( \"x equals 5\" )"
   ]
  },
  {
   "cell_type": "code",
   "execution_count": 47,
   "metadata": {},
   "outputs": [
    {
     "name": "stdout",
     "output_type": "stream",
     "text": [
      "this number is even\n"
     ]
    }
   ],
   "source": [
    "number = 10\n",
    "\n",
    "if number % 2 == 0:\n",
    "    print(\"this number is even\")\n",
    "else:\n",
    "    print(\"This number is odd\")"
   ]
  },
  {
   "cell_type": "code",
   "execution_count": 49,
   "metadata": {},
   "outputs": [
    {
     "name": "stdout",
     "output_type": "stream",
     "text": [
      "Pfew! The weighjt is just right!\n"
     ]
    }
   ],
   "source": [
    "# Luggage weighing.\n",
    "weight = 20\n",
    "\n",
    "if weight > 20:\n",
    "    print( \"There is a $25 surcharge for luggage that is too heavy.\")\n",
    "elif weight < 20:\n",
    "    print( \"Thank you for your business.\" )\n",
    "else:\n",
    "    print(\"Pfew! The weighjt is just right!\")"
   ]
  },
  {
   "cell_type": "markdown",
   "metadata": {},
   "source": [
    "## Iterations"
   ]
  },
  {
   "cell_type": "markdown",
   "metadata": {},
   "source": [
    "---------"
   ]
  },
  {
   "cell_type": "markdown",
   "metadata": {},
   "source": [
    "## While loops"
   ]
  },
  {
   "cell_type": "markdown",
   "metadata": {},
   "source": [
    "------"
   ]
  },
  {
   "cell_type": "code",
   "execution_count": 50,
   "metadata": {},
   "outputs": [
    {
     "name": "stdout",
     "output_type": "stream",
     "text": [
      "1\n",
      "2\n",
      "3\n",
      "4\n",
      "5\n",
      "6\n",
      "7\n",
      "8\n",
      "9\n",
      "10\n",
      "Done\n"
     ]
    }
   ],
   "source": [
    "num = 1\n",
    "while num <= 10:\n",
    "    print( num )\n",
    "    num += 1\n",
    "print( \"Done\" )"
   ]
  },
  {
   "cell_type": "markdown",
   "metadata": {},
   "source": [
    "## Endless loops (don't run!)"
   ]
  },
  {
   "cell_type": "markdown",
   "metadata": {},
   "source": [
    "------"
   ]
  },
  {
   "cell_type": "code",
   "execution_count": null,
   "metadata": {},
   "outputs": [],
   "source": [
    "number = 1\n",
    "total = 0\n",
    "while (number * number) % 1000 != 0:\n",
    "    total += number\n",
    "print( \"Total is\", total )"
   ]
  },
  {
   "cell_type": "markdown",
   "metadata": {},
   "source": [
    "## For loops"
   ]
  },
  {
   "cell_type": "markdown",
   "metadata": {},
   "source": [
    "------"
   ]
  },
  {
   "cell_type": "code",
   "execution_count": 58,
   "metadata": {},
   "outputs": [
    {
     "name": "stdout",
     "output_type": "stream",
     "text": [
      "l\n",
      "i\n",
      "n\n",
      "k\n",
      "i\n",
      "t\n",
      "Done\n"
     ]
    }
   ],
   "source": [
    "for letter in \"linkit\":\n",
    "    print(letter) #, end=\" \"\n",
    "print(\"Done\")"
   ]
  },
  {
   "cell_type": "markdown",
   "metadata": {},
   "source": [
    "## for loops are not endless"
   ]
  },
  {
   "cell_type": "code",
   "execution_count": 60,
   "metadata": {},
   "outputs": [
    {
     "name": "stdout",
     "output_type": "stream",
     "text": [
      "p\n",
      "y\n",
      "t\n",
      "h\n",
      "o\n",
      "n\n",
      "Done\n"
     ]
    }
   ],
   "source": [
    "animal = \"python\"\n",
    "for letter in animal: #the characters gets constituted only once, at the beginning of the loop\n",
    "    print( letter )\n",
    "    if letter == \"h\":\n",
    "        animal = \"horse\"\n",
    "print( \"Done\" )"
   ]
  },
  {
   "cell_type": "code",
   "execution_count": 63,
   "metadata": {},
   "outputs": [
    {
     "name": "stdout",
     "output_type": "stream",
     "text": [
      "0\n",
      "1\n",
      "2\n",
      "3\n",
      "4\n",
      "5\n",
      "6\n",
      "7\n",
      "8\n",
      "9\n"
     ]
    }
   ],
   "source": [
    "for i in range(10): # show docstring\n",
    "    print(i)"
   ]
  },
  {
   "cell_type": "markdown",
   "metadata": {},
   "source": [
    "## break"
   ]
  },
  {
   "cell_type": "markdown",
   "metadata": {},
   "source": [
    "The `break` statement allows you to prematurely break out of a loop. I.e., when Python encounters the break statement, it will no longer process the remainder of the code block for the loop, and will not loop back to the boolean expression. It will simply continue with the first statement after the loop's code block"
   ]
  },
  {
   "cell_type": "code",
   "execution_count": 64,
   "metadata": {},
   "outputs": [
    {
     "name": "stdout",
     "output_type": "stream",
     "text": [
      "The student fails!\n"
     ]
    }
   ],
   "source": [
    "for grade in ( 8, 7.5, 9, 6, 6, 6, 5.5, 7, 5, 8, 7, 7.5 ):\n",
    "    if grade < 5.5:\n",
    "        print( \"The student fails!\" )\n",
    "        break\n",
    "else:\n",
    "    print( \"The student passes!\" )"
   ]
  },
  {
   "cell_type": "markdown",
   "metadata": {},
   "source": [
    "## continue"
   ]
  },
  {
   "cell_type": "markdown",
   "metadata": {},
   "source": [
    "When the `continue` statement is encountered in the code block of a loop, the current cycle ends immediately and the code loops back to the start of the loop. For a `while` loop, that means that the boolean expression is evaluated again. For a `for` loop, that means that the next item is taken from the collection and processed."
   ]
  },
  {
   "cell_type": "code",
   "execution_count": 2,
   "metadata": {},
   "outputs": [
    {
     "name": "stdout",
     "output_type": "stream",
     "text": [
      "Ufuk\n",
      "Filip\n",
      "Alexia\n",
      "Eline\n"
     ]
    }
   ],
   "source": [
    "linkit_emp = [\"Ufuk\",\"Filip\",\"Alexia\",\"Anis\",\"Nazli\",\"Thiago\",\"Eline\",\"emp1\",\"emp2\"]\n",
    "bootcampers = [\"Ufuk\",\"Eline\",\"Filip\", \"Michael\", \"Luka\", \"Alexia\", \"Daniela\"]\n",
    "for emp in linkit_emp:\n",
    "    if emp not in bootcampers:\n",
    "        continue\n",
    "    else:\n",
    "        print(emp)"
   ]
  },
  {
   "cell_type": "markdown",
   "metadata": {},
   "source": [
    "## nested loops"
   ]
  },
  {
   "cell_type": "code",
   "execution_count": 67,
   "metadata": {},
   "outputs": [
    {
     "name": "stdout",
     "output_type": "stream",
     "text": [
      "0 , 1\n",
      "0 , 2\n",
      "0 , 3\n",
      "1 , 2\n",
      "1 , 3\n",
      "2 , 3\n"
     ]
    }
   ],
   "source": [
    "for i in range( 4 ):\n",
    "    for j in range( i+1, 4 ):\n",
    "        print(i, \",\", j)"
   ]
  },
  {
   "cell_type": "markdown",
   "metadata": {},
   "source": [
    "## Time for exercise 1"
   ]
  },
  {
   "cell_type": "markdown",
   "metadata": {},
   "source": [
    "------"
   ]
  },
  {
   "cell_type": "markdown",
   "metadata": {},
   "source": [
    "## Functions"
   ]
  },
  {
   "cell_type": "markdown",
   "metadata": {},
   "source": [
    "-----"
   ]
  },
  {
   "cell_type": "markdown",
   "metadata": {},
   "source": [
    "## Some basic functions (you should be aware of)"
   ]
  },
  {
   "cell_type": "markdown",
   "metadata": {},
   "source": [
    "## calculations"
   ]
  },
  {
   "cell_type": "markdown",
   "metadata": {},
   "source": [
    "- `abs()` has one numerical parameter (an integer or a float). If the value is positive, it will return the value. If the value is negative, it will return the value multiplied by `-1`. Do you understand what this does?\n",
    "- `max()` has two or more numerical parameters, and returns the largest.\n",
    "- `min()` has two or more numerical parameters, and returns the smallest.\n",
    "- `pow()` has two numerical parameters, and returns the first to the power of the second. Optionally, it has a third numerical parameter. If that third parameter is supplied, it will return the value modulo that third parameter.\n",
    "- `round()` has a numerical parameter and rounds it, mathematically, to a whole number. It has an optional second parameter. The second parameter must be an integer, and if it is provided, the function will round the first parameter to the number of decimals specified by the second parameter."
   ]
  },
  {
   "cell_type": "code",
   "execution_count": 17,
   "metadata": {},
   "outputs": [
    {
     "name": "stdout",
     "output_type": "stream",
     "text": [
      "\n",
      "Please wait a moment while I gather a list of all available modules...\n",
      "\n"
     ]
    },
    {
     "name": "stderr",
     "output_type": "stream",
     "text": [
      "/Library/Frameworks/Python.framework/Versions/3.7/lib/python3.7/site-packages/IPython/kernel/__init__.py:13: ShimWarning: The `IPython.kernel` package has been deprecated since IPython 4.0.You should import from ipykernel or jupyter_client instead.\n",
      "  \"You should import from ipykernel or jupyter_client instead.\", ShimWarning)\n",
      "/Library/Frameworks/Python.framework/Versions/3.7/lib/python3.7/site-packages/sklearn/externals/joblib/__init__.py:15: DeprecationWarning:\n",
      "\n",
      "sklearn.externals.joblib is deprecated in 0.21 and will be removed in 0.23. Please import this functionality directly from joblib, which can be installed with: pip install joblib. If this warning is raised when loading pickled models, you may need to re-serialize those models with scikit-learn 0.21+.\n",
      "\n"
     ]
    },
    {
     "name": "stdout",
     "output_type": "stream",
     "text": [
      "IPython             brain_attrs         imghdr              quopri\n",
      "__future__          brain_builtin_inference imp                 random\n",
      "_abc                brain_collections   importlib           re\n",
      "_ast                brain_curses        importlib_metadata  readline\n",
      "_asyncio            brain_dateutil      inspect             reprlib\n",
      "_bisect             brain_fstrings      io                  requests\n",
      "_blake2             brain_functools     ipaddress           requests_oauthlib\n",
      "_bootlocale         brain_gi            ipykernel           resource\n",
      "_bz2                brain_hashlib       ipykernel_launcher  retrying\n",
      "_cffi_backend       brain_http          ipython_genutils    rlcompleter\n",
      "_codecs             brain_io            ipywidgets          rmagic\n",
      "_codecs_cn          brain_mechanize     isodate             rsa\n",
      "_codecs_hk          brain_multiprocessing isort               runpy\n",
      "_codecs_iso2022     brain_namedtuple_enum itertools           s3transfer\n",
      "_codecs_jp          brain_nose          itsdangerous        samples\n",
      "_codecs_kr          brain_numpy         jedi                sched\n",
      "_codecs_tw          brain_pkg_resources jinja2              scipy\n",
      "_collections        brain_pytest        jmespath            secrets\n",
      "_collections_abc    brain_qt            joblib              select\n",
      "_compat_pickle      brain_random        json                selectors\n",
      "_compression        brain_re            jsonschema          send2trash\n",
      "_contextvars        brain_six           jupyter             setuptools\n",
      "_crypt              brain_ssl           jupyter_client      shelve\n",
      "_csv                brain_subprocess    jupyter_console     shlex\n",
      "_ctypes             brain_threading     jupyter_core        shutil\n",
      "_ctypes_test        brain_typing        jwt                 signal\n",
      "_curses             brain_uuid          keyword             site\n",
      "_curses_panel       builtins            lazy_object_proxy   six\n",
      "_datetime           bz2                 lib2to3             sklearn\n",
      "_dbm                cProfile            libfuturize         smtpd\n",
      "_decimal            calendar            libpasteurize       smtplib\n",
      "_dummy_thread       certifi             linecache           sndhdr\n",
      "_elementtree        cffi                locale              socket\n",
      "_functools          cgi                 logging             socketserver\n",
      "_hashlib            cgitb               lzma                sqlite3\n",
      "_heapq              chardet             macpath             sre_compile\n",
      "_imp                chunk               mailbox             sre_constants\n",
      "_io                 click               mailcap             sre_parse\n",
      "_json               clonevirtualenv     mailjet_rest        ssl\n",
      "_locale             cmath               markupsafe          stat\n",
      "_lsprof             cmd                 marshal             statistics\n",
      "_lzma               code                math                storemagic\n",
      "_markupbase         codecs              mccabe              string\n",
      "_md5                codeop              mimetypes           stringprep\n",
      "_multibytecodec     collections         mistune             struct\n",
      "_multiprocessing    colorama            mmap                subprocess\n",
      "_opcode             colorsys            modulefinder        sunau\n",
      "_operator           compileall          more_itertools      symbol\n",
      "_osx_support        concurrent          msrest              sympyprinting\n",
      "_pickle             configparser        msrestazure         symtable\n",
      "_plotly_future_     contextlib          multiprocessing     sys\n",
      "_plotly_utils       contextvars         nbconvert           sysconfig\n",
      "_posixsubprocess    copy                nbformat            syslog\n",
      "_py_abc             copyreg             netrc               tabnanny\n",
      "_pydecimal          crypt               nis                 tarfile\n",
      "_pyio               cryptography        nntplib             telnetlib\n",
      "_pyrsistent_version csv                 notebook            tempfile\n",
      "_queue              ctypes              ntpath              terminado\n",
      "_random             curses              nturl2path          termios\n",
      "_scproxy            cythonmagic         numbers             test\n",
      "_sha1               dash                numpy               testpath\n",
      "_sha256             dash_core_components oauthlib            tests\n",
      "_sha3               dash_html_components opcode              textwrap\n",
      "_sha512             dash_renderer       operator            this\n",
      "_signal             dash_table          optparse            threading\n",
      "_sitebuiltins       dataclasses         os                  time\n",
      "_socket             datetime            pandas              timeit\n",
      "_sqlite3            dateutil            pandocfilters       tkinter\n",
      "_sre                dbm                 parser              token\n",
      "_ssl                decimal             parso               tokenize\n",
      "_stat               decorator           past                tornado\n",
      "_string             defusedxml          pathlib             trace\n",
      "_strptime           difflib             pdb                 traceback\n",
      "_struct             dis                 pexpect             tracemalloc\n",
      "_symtable           distutils           pickle              traitlets\n",
      "_sysconfigdata_m_darwin_darwin doc                 pickleshare         tty\n",
      "_testbuffer         doctest             pickletools         turtle\n",
      "_testcapi           docutils            pip                 turtledemo\n",
      "_testimportmultiple dummy_threading     pipenv              typed_ast\n",
      "_testmultiphase     easy_install        pipes               types\n",
      "_thread             email               pkg_resources       typing\n",
      "_threading_local    encodings           pkgutil             unicodedata\n",
      "_tkinter            ensurepip           platform            unittest\n",
      "_tracemalloc        entrypoints         plistlib            urllib\n",
      "_uuid               enum                plotly              urllib3\n",
      "_warnings           errno               plotlywidget        uu\n",
      "_weakref            faulthandler        poplib              uuid\n",
      "_weakrefset         fcntl               posix               venv\n",
      "_xxtestfuzz         filecmp             posixpath           virtualenv\n",
      "abc                 fileinput           pprint              virtualenv_support\n",
      "adal                flask               profile             warnings\n",
      "aifc                flask_caching       prometheus_client   wave\n",
      "antigravity         flask_compress      prompt_toolkit      wcwidth\n",
      "appnope             fnmatch             pstats              weakref\n",
      "argparse            formatter           pty                 webbrowser\n",
      "array               fractions           ptyprocess          webencodings\n",
      "ast                 ftplib              pvectorc            werkzeug\n",
      "astroid             functools           pwd                 wheel\n",
      "asynchat            future              py4j                widgetsnbextension\n",
      "asyncio             gc                  py_compile          wrapt\n",
      "asyncore            genericpath         pyarrow             wsgiref\n",
      "atexit              getopt              pyasn1              xdrlib\n",
      "attr                getpass             pyclbr              xml\n",
      "audioop             gettext             pycparser           xmlrpc\n",
      "autoreload          glob                pydoc               xxlimited\n",
      "awscli              grp                 pydoc_data          xxsubtype\n",
      "backcall            gzip                pyexpat             yaml\n",
      "base64              hashlib             pygments            zipapp\n",
      "bdb                 heapq               pylint              zipfile\n",
      "binascii            hmac                pyodbc              zipimport\n",
      "binhex              html                pyrsistent          zipp\n",
      "bisect              http                pyspark             zlib\n",
      "bleach              idlelib             pytz                zmq\n",
      "botocore            idna                qtconsole           \n",
      "brain_argparse      imaplib             queue               \n",
      "\n",
      "Enter any module name to get more help.  Or, type \"modules spam\" to search\n",
      "for modules whose name or summary contain the string \"spam\".\n",
      "\n",
      "None\n"
     ]
    }
   ],
   "source": [
    "print(help(\"modules\"))"
   ]
  },
  {
   "cell_type": "code",
   "execution_count": 68,
   "metadata": {},
   "outputs": [
    {
     "name": "stdout",
     "output_type": "stream",
     "text": [
      "2\n",
      "3\n",
      "-2\n",
      "-8\n",
      "1.3\n"
     ]
    }
   ],
   "source": [
    "x = -2\n",
    "y = 3\n",
    "z = 1.27\n",
    "\n",
    "print( abs( x ))\n",
    "print( max( x, y, z ))\n",
    "print( min( x, y, z ))\n",
    "print( pow( x, y ))\n",
    "print( round( z, 1 ))"
   ]
  },
  {
   "cell_type": "markdown",
   "metadata": {},
   "source": [
    "## len()"
   ]
  },
  {
   "cell_type": "markdown",
   "metadata": {},
   "source": [
    "`len()` is a basic function that gets one parameter, and it returns the length of that parameter."
   ]
  },
  {
   "cell_type": "code",
   "execution_count": 71,
   "metadata": {},
   "outputs": [
    {
     "name": "stdout",
     "output_type": "stream",
     "text": [
      "3\n",
      "0\n",
      "5\n",
      "7\n"
     ]
    }
   ],
   "source": [
    "bootcampers = [\"Ufuk\",\"Eline\",\"Filip\", \"Michael\", \"Luka\", \"Alexia\", \"Daniela\"]\n",
    "print(len( 'can' ))\n",
    "print(len( '' ))\n",
    "print(len('can\\'t'))\n",
    "print(len(bootcampers))"
   ]
  },
  {
   "cell_type": "markdown",
   "metadata": {},
   "source": [
    "## input()"
   ]
  },
  {
   "cell_type": "markdown",
   "metadata": {},
   "source": [
    "You can ask the user to supply a string value by using the `input()` function. The function has one parameter, which is a string. This string is the so-called \"prompt\". When `input()` is called, the prompt is displayed on the screen and the user gets to enter something. The user may type anything they want, including nothing, and then press <i>Enter</i> to stop entering input. The return value of the function is a string which contains what the user entered, excluding that final press of the <i>Enter</i> key."
   ]
  },
  {
   "cell_type": "code",
   "execution_count": 73,
   "metadata": {},
   "outputs": [
    {
     "name": "stdout",
     "output_type": "stream",
     "text": [
      "Please enter some text: Hello\n",
      "You entered: Hello\n"
     ]
    }
   ],
   "source": [
    "text = input( \"Please enter some text: \" )\n",
    "print( \"You entered:\", text )"
   ]
  },
  {
   "cell_type": "code",
   "execution_count": 74,
   "metadata": {},
   "outputs": [
    {
     "name": "stdout",
     "output_type": "stream",
     "text": [
      "Please enter a number: 12\n"
     ]
    },
    {
     "ename": "TypeError",
     "evalue": "can't multiply sequence by non-int of type 'str'",
     "output_type": "error",
     "traceback": [
      "\u001b[0;31m---------------------------------------------------------------------------\u001b[0m",
      "\u001b[0;31mTypeError\u001b[0m                                 Traceback (most recent call last)",
      "\u001b[0;32m<ipython-input-74-de5f80f595f3>\u001b[0m in \u001b[0;36m<module>\u001b[0;34m\u001b[0m\n\u001b[1;32m      1\u001b[0m \u001b[0mnumber\u001b[0m \u001b[0;34m=\u001b[0m \u001b[0minput\u001b[0m\u001b[0;34m(\u001b[0m \u001b[0;34m\"Please enter a number: \"\u001b[0m \u001b[0;34m)\u001b[0m\u001b[0;34m\u001b[0m\u001b[0;34m\u001b[0m\u001b[0m\n\u001b[0;32m----> 2\u001b[0;31m \u001b[0mprint\u001b[0m\u001b[0;34m(\u001b[0m \u001b[0;34m\"Your number squared is\"\u001b[0m\u001b[0;34m,\u001b[0m \u001b[0mnumber\u001b[0m \u001b[0;34m*\u001b[0m \u001b[0mnumber\u001b[0m \u001b[0;34m)\u001b[0m\u001b[0;34m\u001b[0m\u001b[0;34m\u001b[0m\u001b[0m\n\u001b[0m",
      "\u001b[0;31mTypeError\u001b[0m: can't multiply sequence by non-int of type 'str'"
     ]
    }
   ],
   "source": [
    "number = input( \"Please enter a number: \" )\n",
    "print( \"Your number squared is\", number * number )"
   ]
  },
  {
   "cell_type": "code",
   "execution_count": 76,
   "metadata": {},
   "outputs": [
    {
     "name": "stdout",
     "output_type": "stream",
     "text": [
      "Please enter a number: 12\n"
     ]
    },
    {
     "ename": "TypeError",
     "evalue": "can't multiply sequence by non-int of type 'str'",
     "output_type": "error",
     "traceback": [
      "\u001b[0;31m---------------------------------------------------------------------------\u001b[0m",
      "\u001b[0;31mTypeError\u001b[0m                                 Traceback (most recent call last)",
      "\u001b[0;32m<ipython-input-76-de5f80f595f3>\u001b[0m in \u001b[0;36m<module>\u001b[0;34m\u001b[0m\n\u001b[1;32m      1\u001b[0m \u001b[0mnumber\u001b[0m \u001b[0;34m=\u001b[0m \u001b[0minput\u001b[0m\u001b[0;34m(\u001b[0m \u001b[0;34m\"Please enter a number: \"\u001b[0m \u001b[0;34m)\u001b[0m\u001b[0;34m\u001b[0m\u001b[0;34m\u001b[0m\u001b[0m\n\u001b[0;32m----> 2\u001b[0;31m \u001b[0mprint\u001b[0m\u001b[0;34m(\u001b[0m \u001b[0;34m\"Your number squared is\"\u001b[0m\u001b[0;34m,\u001b[0m \u001b[0mnumber\u001b[0m \u001b[0;34m*\u001b[0m \u001b[0mnumber\u001b[0m \u001b[0;34m)\u001b[0m\u001b[0;34m\u001b[0m\u001b[0;34m\u001b[0m\u001b[0m\n\u001b[0m",
      "\u001b[0;31mTypeError\u001b[0m: can't multiply sequence by non-int of type 'str'"
     ]
    }
   ],
   "source": [
    "number = input( \"Please enter a number: \" )\n",
    "print( \"Your number squared is\", number * number )"
   ]
  },
  {
   "cell_type": "markdown",
   "metadata": {},
   "source": [
    "## print()"
   ]
  },
  {
   "cell_type": "markdown",
   "metadata": {},
   "source": [
    "The function `print()` takes zero or more parameters, displays them (if there are multiple, with a separating space in between each pair of them), and then \"goes to the next line\" (i.e., if you use two `print()` statements, the second one will display its parameters below what the first one displays).\n",
    "\n",
    "If `print()` is called without parameters, the function simply will \"go to the next line\". This is one way you can display empty lines.\n",
    "\n",
    "You can supply `print()` with anything as a parameter, and it will do its best to print it. For now, you will only print the basic data types.\n",
    "\n",
    "`print()` can get two special OPTIONAL parameters, called \"sep\" and \"end\". \n",
    "\n",
    "`sep` indicates what should be printed between each of the parameters, and by default is a space. You can use `sep` to turn the separating space into anything else, including an empty string. \n",
    "\n",
    "`end` indicates what `print()` should put after all the parameters have been displayed, and by default is a \"new line\". You can use `end` to change what `print()` does after displaying the parameters, for instance, you can ensure that `print()` does <i>not</i> \"go to the next line\"."
   ]
  },
  {
   "cell_type": "code",
   "execution_count": 79,
   "metadata": {},
   "outputs": [
    {
     "name": "stdout",
     "output_type": "stream",
     "text": [
      "linkit-rijnzathe-9\n",
      "linkit rijnzathe-9\n"
     ]
    }
   ],
   "source": [
    "print( \"linkit\", \"rijnzathe\", \"9\", sep=\"-\" )\n",
    "print( \"linkit\", end=\" \" )\n",
    "print( \"rijnzathe\", end=\"-\" )\n",
    "print( \"9\" )"
   ]
  },
  {
   "cell_type": "markdown",
   "metadata": {},
   "source": [
    "## format()"
   ]
  },
  {
   "cell_type": "markdown",
   "metadata": {},
   "source": [
    "`format()` represents a rather complex functionality that is employed in a particular way. It allows you to create a formatted string, i.e., a str"
   ]
  },
  {
   "cell_type": "code",
   "execution_count": 80,
   "metadata": {},
   "outputs": [
    {
     "name": "stdout",
     "output_type": "stream",
     "text": [
      "The first three numbers are one, two and three.\n"
     ]
    }
   ],
   "source": [
    "print(\"The first three numbers are {}, {} and {}.\".format(\"one\",\"two\",\"three\"))"
   ]
  },
  {
   "cell_type": "code",
   "execution_count": 81,
   "metadata": {},
   "outputs": [
    {
     "name": "stdout",
     "output_type": "stream",
     "text": [
      "The first three numbers are (in backwards order) three, two and one.\n"
     ]
    }
   ],
   "source": [
    "print( \"The first three numbers are (in backwards order) {2}, {1} and {0}.\".format( \"one\", \"two\", \"three\" ) )"
   ]
  },
  {
   "cell_type": "code",
   "execution_count": 83,
   "metadata": {},
   "outputs": [
    {
     "name": "stdout",
     "output_type": "stream",
     "text": [
      "The first three numbers are one, 2 and 3.0.\n"
     ]
    }
   ],
   "source": [
    "# you can use parameters of different data types in the function, however the function only works with a string!!\n",
    "print( \"The first three numbers are {}, {} and {}.\".format( \"one\", 2, 3.0 ) )"
   ]
  },
  {
   "cell_type": "code",
   "execution_count": 84,
   "metadata": {},
   "outputs": [
    {
     "name": "stdout",
     "output_type": "stream",
     "text": [
      "The first three numbers are one    , two     and three  .\n"
     ]
    }
   ],
   "source": [
    "# if you want to reserve a certain number of places for a string parameter\n",
    "print(\"The first three numbers are {:7}, {:7} and {:7}.\".format(\"one\", \"two\", \"three\" ))"
   ]
  },
  {
   "cell_type": "code",
   "execution_count": 85,
   "metadata": {},
   "outputs": [
    {
     "name": "stdout",
     "output_type": "stream",
     "text": [
      "The first three numbers are     one,   two   and three  .\n"
     ]
    }
   ],
   "source": [
    "# Alignment characters are \"<\" for align left, \"^\" for align center, and \">\" for align right.\n",
    "print( \"The first three numbers are {:>7}, {:^7} and {:<7}.\".format( \"one\", \"two\", \"three\" ) )"
   ]
  },
  {
   "cell_type": "markdown",
   "metadata": {},
   "source": [
    "## Modules"
   ]
  },
  {
   "cell_type": "markdown",
   "metadata": {},
   "source": [
    "------"
   ]
  },
  {
   "cell_type": "code",
   "execution_count": 92,
   "metadata": {},
   "outputs": [
    {
     "name": "stdout",
     "output_type": "stream",
     "text": [
      "2.0\n"
     ]
    }
   ],
   "source": [
    "import math\n",
    "\n",
    "print( math.sqrt( 4 ) )"
   ]
  },
  {
   "cell_type": "markdown",
   "metadata": {},
   "source": [
    "equivalent to:"
   ]
  },
  {
   "cell_type": "code",
   "execution_count": 93,
   "metadata": {},
   "outputs": [
    {
     "name": "stdout",
     "output_type": "stream",
     "text": [
      "2.0\n"
     ]
    }
   ],
   "source": [
    "from math import sqrt\n",
    "\n",
    "print( sqrt( 4 ) )"
   ]
  },
  {
   "cell_type": "markdown",
   "metadata": {},
   "source": [
    "if you want to rename the function:"
   ]
  },
  {
   "cell_type": "code",
   "execution_count": 94,
   "metadata": {},
   "outputs": [
    {
     "name": "stdout",
     "output_type": "stream",
     "text": [
      "2.0\n"
     ]
    }
   ],
   "source": [
    "from math import sqrt as squareroot\n",
    "\n",
    "print( squareroot( 4 ) )"
   ]
  },
  {
   "cell_type": "code",
   "execution_count": 101,
   "metadata": {},
   "outputs": [
    {
     "data": {
      "text/plain": [
       "'/Users/anis.boudih/Documents'"
      ]
     },
     "execution_count": 101,
     "metadata": {},
     "output_type": "execute_result"
    }
   ],
   "source": [
    "pwd"
   ]
  },
  {
   "cell_type": "code",
   "execution_count": 103,
   "metadata": {},
   "outputs": [
    {
     "data": {
      "text/plain": [
       "['Python-Intro.pdf',\n",
       " 'examples-python',\n",
       " '.gitignore',\n",
       " 'day1',\n",
       " '.ipynb_checkpoints',\n",
       " '.git']"
      ]
     },
     "execution_count": 103,
     "metadata": {},
     "output_type": "execute_result"
    }
   ],
   "source": [
    "import os\n",
    "\n",
    "os.chdir(\"/Users/anis.boudih/Documents/\")\n",
    "os.listdir(\"/Users/anis.boudih/Documents/python bootcamp/\")"
   ]
  },
  {
   "cell_type": "code",
   "execution_count": 137,
   "metadata": {},
   "outputs": [
    {
     "data": {
      "text/plain": [
       "['Python-Intro.pdf',\n",
       " 'examples-python',\n",
       " '.gitignore',\n",
       " 'day1',\n",
       " '.ipynb_checkpoints',\n",
       " '.git']"
      ]
     },
     "execution_count": 137,
     "metadata": {},
     "output_type": "execute_result"
    }
   ],
   "source": [
    "from os import *\n",
    "\n",
    "chdir(\"/Users/anis.boudih/Documents/\")\n",
    "listdir(\"/Users/anis.boudih/Documents/python bootcamp/\")"
   ]
  },
  {
   "cell_type": "markdown",
   "metadata": {},
   "source": [
    "## Creating our own functions"
   ]
  },
  {
   "cell_type": "markdown",
   "metadata": {},
   "source": [
    "-------"
   ]
  },
  {
   "cell_type": "code",
   "execution_count": 108,
   "metadata": {},
   "outputs": [
    {
     "name": "stdout",
     "output_type": "stream",
     "text": [
      "Hello, Filip!\n",
      "Hello, Daniela!\n",
      "Hello, Michael!\n",
      "Hello, Alexia!\n"
     ]
    }
   ],
   "source": [
    "def hello(name):\n",
    "    print(\"Hello, {}!\".format( name ) )\n",
    "    \n",
    "hello(\"Filip\")\n",
    "hello(\"Daniela\")\n",
    "hello(\"Michael\")\n",
    "hello(\"Alexia\")"
   ]
  },
  {
   "cell_type": "markdown",
   "metadata": {},
   "source": [
    "### `return`"
   ]
  },
  {
   "cell_type": "markdown",
   "metadata": {},
   "source": [
    "Parameters can be used to communicate information from outside a function to the code block of the function. Often, you also want function to communicate information to program that is outside the function. The keyword `return` accomplishes this.\n",
    "\n",
    "When you use the command `return` in a function, that ends the processing of the function, and Python will continue with the code that needs to be executed after the call to the function. You can put one or more values or variables after the `return` statement. These values, and values of variables, are communicated to the program outside the function. If you want to use them outside the function, you can put them into a variable when you assign the call to the function to that variable."
   ]
  },
  {
   "cell_type": "code",
   "execution_count": 110,
   "metadata": {},
   "outputs": [
    {
     "name": "stdout",
     "output_type": "stream",
     "text": [
      "5.0\n"
     ]
    }
   ],
   "source": [
    "from math import sqrt\n",
    "\n",
    "def pythagoras( a, b ):\n",
    "    return sqrt(a*a + b*b)\n",
    "\n",
    "c = pythagoras(3,4)\n",
    "print( c )"
   ]
  },
  {
   "cell_type": "code",
   "execution_count": 111,
   "metadata": {},
   "outputs": [
    {
     "name": "stdout",
     "output_type": "stream",
     "text": [
      "8\n"
     ]
    }
   ],
   "source": [
    "def return3():\n",
    "    return 3\n",
    "\n",
    "x = 2 ** return3()\n",
    "print(x)"
   ]
  },
  {
   "cell_type": "code",
   "execution_count": 112,
   "metadata": {},
   "outputs": [
    {
     "name": "stdout",
     "output_type": "stream",
     "text": [
      "3\n"
     ]
    },
    {
     "ename": "TypeError",
     "evalue": "unsupported operand type(s) for ** or pow(): 'int' and 'NoneType'",
     "output_type": "error",
     "traceback": [
      "\u001b[0;31m---------------------------------------------------------------------------\u001b[0m",
      "\u001b[0;31mTypeError\u001b[0m                                 Traceback (most recent call last)",
      "\u001b[0;32m<ipython-input-112-55ef99620598>\u001b[0m in \u001b[0;36m<module>\u001b[0;34m\u001b[0m\n\u001b[1;32m      2\u001b[0m     \u001b[0mprint\u001b[0m\u001b[0;34m(\u001b[0m\u001b[0;36m3\u001b[0m\u001b[0;34m)\u001b[0m\u001b[0;34m\u001b[0m\u001b[0;34m\u001b[0m\u001b[0m\n\u001b[1;32m      3\u001b[0m \u001b[0;34m\u001b[0m\u001b[0m\n\u001b[0;32m----> 4\u001b[0;31m \u001b[0mx\u001b[0m \u001b[0;34m=\u001b[0m \u001b[0;36m2\u001b[0m \u001b[0;34m**\u001b[0m \u001b[0mprint3\u001b[0m\u001b[0;34m(\u001b[0m\u001b[0;34m)\u001b[0m\u001b[0;34m\u001b[0m\u001b[0;34m\u001b[0m\u001b[0m\n\u001b[0m\u001b[1;32m      5\u001b[0m \u001b[0mprint\u001b[0m\u001b[0;34m(\u001b[0m\u001b[0mx\u001b[0m\u001b[0;34m)\u001b[0m\u001b[0;34m\u001b[0m\u001b[0;34m\u001b[0m\u001b[0m\n",
      "\u001b[0;31mTypeError\u001b[0m: unsupported operand type(s) for ** or pow(): 'int' and 'NoneType'"
     ]
    }
   ],
   "source": [
    "def print3():\n",
    "    print(3)\n",
    "    \n",
    "x = 2 ** print3()\n",
    "print(x)"
   ]
  },
  {
   "cell_type": "markdown",
   "metadata": {},
   "source": [
    "The reason is that while `print3()` displays the value of 3 on the screen (you even see it above the runtime error), it does not produce the actual value 3 in such a way that the calculation can use it. The function `print3()` actually returns the special value `None`, which cannot be used in a calculation.\n",
    "\n",
    "So, if you want to create a function that produces a value that can be used in other parts of the program, then the function must `return` that value. If you want to create a function that just displays something on the screen, you can use a `print` statement in the function to do that, but the function does not need to `return` anything."
   ]
  },
  {
   "cell_type": "code",
   "execution_count": 113,
   "metadata": {},
   "outputs": [
    {
     "name": "stdout",
     "output_type": "stream",
     "text": [
      "xxxxxxxxxxxx\n"
     ]
    }
   ],
   "source": [
    "# Printing x's\n",
    "def printx():\n",
    "    return (\"x\")\n",
    "  \n",
    "def multiplex(y):\n",
    "    result = y * printx()\n",
    "    return result\n",
    "        \n",
    "print(multiplex(12))"
   ]
  },
  {
   "cell_type": "code",
   "execution_count": 18,
   "metadata": {},
   "outputs": [
    {
     "name": "stdout",
     "output_type": "stream",
     "text": [
      "2000\n"
     ]
    },
    {
     "ename": "UnboundLocalError",
     "evalue": "local variable 'money' referenced before assignment",
     "output_type": "error",
     "traceback": [
      "\u001b[0;31m---------------------------------------------------------------------------\u001b[0m",
      "\u001b[0;31mUnboundLocalError\u001b[0m                         Traceback (most recent call last)",
      "\u001b[0;32m<ipython-input-18-d53f359f7fa4>\u001b[0m in \u001b[0;36m<module>\u001b[0;34m\u001b[0m\n\u001b[1;32m      6\u001b[0m \u001b[0;34m\u001b[0m\u001b[0m\n\u001b[1;32m      7\u001b[0m \u001b[0mprint\u001b[0m\u001b[0;34m(\u001b[0m\u001b[0mmoney\u001b[0m\u001b[0;34m)\u001b[0m\u001b[0;34m\u001b[0m\u001b[0;34m\u001b[0m\u001b[0m\n\u001b[0;32m----> 8\u001b[0;31m \u001b[0madd_money\u001b[0m\u001b[0;34m(\u001b[0m\u001b[0;34m)\u001b[0m\u001b[0;34m\u001b[0m\u001b[0;34m\u001b[0m\u001b[0m\n\u001b[0m\u001b[1;32m      9\u001b[0m \u001b[0mprint\u001b[0m\u001b[0;34m(\u001b[0m\u001b[0mmoney\u001b[0m\u001b[0;34m)\u001b[0m\u001b[0;34m\u001b[0m\u001b[0;34m\u001b[0m\u001b[0m\n",
      "\u001b[0;32m<ipython-input-18-d53f359f7fa4>\u001b[0m in \u001b[0;36madd_money\u001b[0;34m()\u001b[0m\n\u001b[1;32m      3\u001b[0m    \u001b[0;31m# Uncomment the following line to fix the code:\u001b[0m\u001b[0;34m\u001b[0m\u001b[0;34m\u001b[0m\u001b[0;34m\u001b[0m\u001b[0m\n\u001b[1;32m      4\u001b[0m \u001b[0;31m#    global money\u001b[0m\u001b[0;34m\u001b[0m\u001b[0;34m\u001b[0m\u001b[0;34m\u001b[0m\u001b[0m\n\u001b[0;32m----> 5\u001b[0;31m    \u001b[0mmoney\u001b[0m \u001b[0;34m=\u001b[0m \u001b[0mmoney\u001b[0m \u001b[0;34m+\u001b[0m \u001b[0;36m1\u001b[0m\u001b[0;34m\u001b[0m\u001b[0;34m\u001b[0m\u001b[0m\n\u001b[0m\u001b[1;32m      6\u001b[0m \u001b[0;34m\u001b[0m\u001b[0m\n\u001b[1;32m      7\u001b[0m \u001b[0mprint\u001b[0m\u001b[0;34m(\u001b[0m\u001b[0mmoney\u001b[0m\u001b[0;34m)\u001b[0m\u001b[0;34m\u001b[0m\u001b[0;34m\u001b[0m\u001b[0m\n",
      "\u001b[0;31mUnboundLocalError\u001b[0m: local variable 'money' referenced before assignment"
     ]
    }
   ],
   "source": [
    "money = 2000\n",
    "def add_money():\n",
    "   # Uncomment the following line to fix the code:\n",
    "#    global money\n",
    "   money = money + 1\n",
    "\n",
    "print(money)\n",
    "add_money()\n",
    "print(money)"
   ]
  },
  {
   "cell_type": "markdown",
   "metadata": {},
   "source": [
    "## Time for exercise 2"
   ]
  },
  {
   "cell_type": "markdown",
   "metadata": {},
   "source": [
    "## Strings Operations"
   ]
  },
  {
   "cell_type": "markdown",
   "metadata": {},
   "source": [
    "-------"
   ]
  },
  {
   "cell_type": "code",
   "execution_count": 115,
   "metadata": {},
   "outputs": [
    {
     "name": "stdout",
     "output_type": "stream",
     "text": [
      "linkit\n",
      "Python\n",
      "linkitPython\n",
      "linkitlinkitlinkit\n",
      "PythonPythonPython\n",
      "linkitlinkitPythonPython\n"
     ]
    }
   ],
   "source": [
    "s1 = \"linkit\"\n",
    "s2 = 'Python'\n",
    "print( s1 )\n",
    "print( s2 )\n",
    "print( s1 + s2 )\n",
    "print( 3 * s1 )\n",
    "print( s2 * 3 )\n",
    "print( 2 * s1 + 2 * s2 )"
   ]
  },
  {
   "cell_type": "markdown",
   "metadata": {},
   "source": [
    "## Multi-line strings"
   ]
  },
  {
   "cell_type": "markdown",
   "metadata": {},
   "source": [
    "Strings in Python may span across multiple lines. This can be useful when you have a very long string, or when you want to format the output of the string in a certain way. Multi-line strings can be achieved in two ways:\n",
    "\n",
    "1. With single or double quotes, and an indication that the remainder of the string continues on the next line with a backslash.\n",
    "2. With triple single or double quotes."
   ]
  },
  {
   "cell_type": "code",
   "execution_count": 116,
   "metadata": {},
   "outputs": [
    {
     "name": "stdout",
     "output_type": "stream",
     "text": [
      "I'm fed up with being treated like sheep. What's the point of going abroad if you're just another tourist carted around in buses surrounded by sweaty mindless oafs from Kettering and Coventry in their cloth caps and their cardigans and their transistor radios and their Sunday Mirrors, complaining about the tea - 'Oh they don't make it properly here, do they, not like at home' - and stopping at Majorcan bodegas selling fish and chips and Watney's Red Barrel and calamaris and two veg and sitting in their cotton frocks squirting Timothy White's suncream all over their puffy raw swollen purulent flesh 'cos they 'overdid it on the first day.'\n"
     ]
    }
   ],
   "source": [
    "longString = \"I'm fed up with being treated like sheep. \\\n",
    "What's the point of going abroad if you're just another \\\n",
    "tourist carted around in buses surrounded by sweaty \\\n",
    "mindless oafs from Kettering and Coventry in their \\\n",
    "cloth caps and their cardigans and their transistor \\\n",
    "radios and their Sunday Mirrors, complaining about \\\n",
    "the tea - 'Oh they don't make it properly here, do they, \\\n",
    "not like at home' - and stopping at Majorcan bodegas \\\n",
    "selling fish and chips and Watney's Red Barrel and \\\n",
    "calamaris and two veg and sitting in their cotton frocks \\\n",
    "squirting Timothy White's suncream all over their puffy \\\n",
    "raw swollen purulent flesh 'cos they 'overdid it on the first day.'\"\n",
    "print(longString)"
   ]
  },
  {
   "cell_type": "code",
   "execution_count": 117,
   "metadata": {},
   "outputs": [
    {
     "name": "stdout",
     "output_type": "stream",
     "text": [
      "And being herded into endless Hotel Miramars and Bellevueses \n",
      "and Continentales with their modern international luxury \n",
      "roomettes and draught Red Barrel and swimming pools full \n",
      "of fat German businessmen pretending they're acrobats forming \n",
      "pyramids and frightening the children and barging into queues \n",
      "and if you're not at your table spot on seven you miss the \n",
      "bowl of Campbell's Cream of Mushroom soup, the first item on \n",
      "the menu of International Cuisine, and every Thursday night \n",
      "the hotel has a bloody cabaret in the bar, featuring a tiny \n",
      "emaciated dago with nine-inch hips and some bloated fat tart \n",
      "with her hair brylcreemed down and a big arse presenting \n",
      "Flamenco for Foreigners.\n"
     ]
    }
   ],
   "source": [
    "longString = \"\"\"And being herded into endless Hotel Miramars and Bellevueses \n",
    "and Continentales with their modern international luxury \n",
    "roomettes and draught Red Barrel and swimming pools full \n",
    "of fat German businessmen pretending they're acrobats forming \n",
    "pyramids and frightening the children and barging into queues \n",
    "and if you're not at your table spot on seven you miss the \n",
    "bowl of Campbell's Cream of Mushroom soup, the first item on \n",
    "the menu of International Cuisine, and every Thursday night \n",
    "the hotel has a bloody cabaret in the bar, featuring a tiny \n",
    "emaciated dago with nine-inch hips and some bloated fat tart \n",
    "with her hair brylcreemed down and a big arse presenting \n",
    "Flamenco for Foreigners.\"\"\"\n",
    "print(longString)"
   ]
  },
  {
   "cell_type": "markdown",
   "metadata": {},
   "source": [
    "## String indices"
   ]
  },
  {
   "cell_type": "markdown",
   "metadata": {},
   "source": [
    "Each symbol in a string has a position, this position can be referred to by the index number of the position. The index numbers start at 0 and then increase to the length of the string. The following table shows the word \"orange\" in the first row and the indices for each letter in the second and third rows:\n",
    "\n",
    "&nbsp;&nbsp;__`  l  i  n  k  i  t`__<br>\n",
    "&nbsp;&nbsp;`  0  1  2  3  4  5`<br>\n",
    "` -6 -5 -4 -3 -2 -1`"
   ]
  },
  {
   "cell_type": "code",
   "execution_count": 121,
   "metadata": {},
   "outputs": [
    {
     "name": "stdout",
     "output_type": "stream",
     "text": [
      "r\n",
      "a\n",
      "g\n",
      "e\n",
      "o\n",
      "n\n"
     ]
    }
   ],
   "source": [
    "# accessing individual characters\n",
    "fruit = \"orange\"\n",
    "print( fruit[1] ) \n",
    "print( fruit[2] ) \n",
    "print( fruit[4] )\n",
    "print( fruit[-1] )\n",
    "print( fruit[-6] )\n",
    "print( fruit[-3] )"
   ]
  },
  {
   "cell_type": "markdown",
   "metadata": {},
   "source": [
    "## substring (a.k.a. \"slice\")"
   ]
  },
  {
   "cell_type": "code",
   "execution_count": 122,
   "metadata": {},
   "outputs": [
    {
     "name": "stdout",
     "output_type": "stream",
     "text": [
      "linkit\n",
      "linkit\n",
      "linkit\n",
      "linkit\n",
      "linkit\n",
      "inki\n",
      "n inkit\n",
      "tiknil\n"
     ]
    }
   ],
   "source": [
    "company_name = \"linkit\"\n",
    "print( company_name[:] )\n",
    "print( company_name[0:] )\n",
    "print( company_name[:6] )\n",
    "print( company_name[:100] )\n",
    "print( company_name[:len( company_name )] )\n",
    "print( company_name[1:-1] )\n",
    "print( company_name[2], company_name[1:6] )\n",
    "print( company_name[::-1])"
   ]
  },
  {
   "cell_type": "markdown",
   "metadata": {},
   "source": [
    "## Strings are immutable"
   ]
  },
  {
   "cell_type": "code",
   "execution_count": 123,
   "metadata": {},
   "outputs": [
    {
     "ename": "TypeError",
     "evalue": "'str' object does not support item assignment",
     "output_type": "error",
     "traceback": [
      "\u001b[0;31m---------------------------------------------------------------------------\u001b[0m",
      "\u001b[0;31mTypeError\u001b[0m                                 Traceback (most recent call last)",
      "\u001b[0;32m<ipython-input-123-ea72f4b13ed0>\u001b[0m in \u001b[0;36m<module>\u001b[0;34m\u001b[0m\n\u001b[1;32m      1\u001b[0m \u001b[0mfruit\u001b[0m \u001b[0;34m=\u001b[0m \u001b[0;34m\"oringe\"\u001b[0m\u001b[0;34m\u001b[0m\u001b[0;34m\u001b[0m\u001b[0m\n\u001b[0;32m----> 2\u001b[0;31m \u001b[0mfruit\u001b[0m\u001b[0;34m[\u001b[0m\u001b[0;36m2\u001b[0m\u001b[0;34m]\u001b[0m \u001b[0;34m=\u001b[0m \u001b[0;34m\"a\"\u001b[0m\u001b[0;34m\u001b[0m\u001b[0;34m\u001b[0m\u001b[0m\n\u001b[0m\u001b[1;32m      3\u001b[0m \u001b[0mprint\u001b[0m\u001b[0;34m(\u001b[0m \u001b[0mfruit\u001b[0m \u001b[0;34m)\u001b[0m\u001b[0;34m\u001b[0m\u001b[0;34m\u001b[0m\u001b[0m\n",
      "\u001b[0;31mTypeError\u001b[0m: 'str' object does not support item assignment"
     ]
    }
   ],
   "source": [
    "fruit = \"oringe\"\n",
    "fruit[2] = \"a\"\n",
    "print( fruit )"
   ]
  },
  {
   "cell_type": "code",
   "execution_count": 124,
   "metadata": {},
   "outputs": [
    {
     "name": "stdout",
     "output_type": "stream",
     "text": [
      "orange\n"
     ]
    }
   ],
   "source": [
    "fruit = \"oringe\"\n",
    "fruit = fruit[:2] + \"a\" + fruit[3:]\n",
    "print( fruit )"
   ]
  },
  {
   "cell_type": "markdown",
   "metadata": {},
   "source": [
    "## String operations"
   ]
  },
  {
   "cell_type": "markdown",
   "metadata": {},
   "source": [
    "### `strip()`"
   ]
  },
  {
   "cell_type": "code",
   "execution_count": 126,
   "metadata": {},
   "outputs": [
    {
     "name": "stdout",
     "output_type": "stream",
     "text": [
      "[    And now for something completely different\n",
      "     ]\n",
      "[And now for something completely different]\n"
     ]
    }
   ],
   "source": [
    "s = \"    And now for something completely different\\n     \"\n",
    "print( \"[\"+s+\"]\" )\n",
    "s = s.strip()\n",
    "print( \"[\"+s+\"]\" )"
   ]
  },
  {
   "cell_type": "markdown",
   "metadata": {},
   "source": [
    "### `upper()` and `lower()`"
   ]
  },
  {
   "cell_type": "code",
   "execution_count": null,
   "metadata": {},
   "outputs": [],
   "source": [
    "s = \"The Meaning of Life\"\n",
    "print( s )\n",
    "print( s.upper() )\n",
    "print( s.lower() )"
   ]
  },
  {
   "cell_type": "markdown",
   "metadata": {},
   "source": [
    "### `find()`"
   ]
  },
  {
   "cell_type": "code",
   "execution_count": 19,
   "metadata": {},
   "outputs": [
    {
     "name": "stdout",
     "output_type": "stream",
     "text": [
      "14\n",
      "4\n",
      "16\n",
      "-1\n"
     ]
    }
   ],
   "source": [
    "s = \"Humpty Dumpty sat on the wall\"\n",
    "print( s.find( \"sat\" ) )\n",
    "print( s.find( \"t\" ) )\n",
    "print( s.find( \"t\", 12 ) )\n",
    "print( s.find( \"q\" ) )"
   ]
  },
  {
   "cell_type": "markdown",
   "metadata": {},
   "source": [
    "### `split()`"
   ]
  },
  {
   "cell_type": "code",
   "execution_count": 128,
   "metadata": {},
   "outputs": [
    {
     "name": "stdout",
     "output_type": "stream",
     "text": [
      "Humpty\n",
      "Dumpty\n",
      "sat\n",
      "on\n",
      "the\n",
      "wall\n"
     ]
    }
   ],
   "source": [
    "s = 'Humpty Dumpty sat on the wall'\n",
    "wordlist = s.split()\n",
    "for word in wordlist:\n",
    "    print( word )"
   ]
  },
  {
   "cell_type": "code",
   "execution_count": 129,
   "metadata": {},
   "outputs": [
    {
     "name": "stdout",
     "output_type": "stream",
     "text": [
      "2020\n",
      "February\n",
      "5\n",
      "Python lesson\n",
      "Linkit\n",
      "Utrecht\n"
     ]
    }
   ],
   "source": [
    "csv = \"2020,February,5,Python lesson,Linkit,Utrecht\"\n",
    "values = csv.split( ',' )\n",
    "for value in values:\n",
    "    print( value )"
   ]
  },
  {
   "cell_type": "markdown",
   "metadata": {},
   "source": [
    "### `join()`"
   ]
  },
  {
   "cell_type": "code",
   "execution_count": 131,
   "metadata": {},
   "outputs": [
    {
     "name": "stdout",
     "output_type": "stream",
     "text": [
      "Humpty;Dumpty;sat;on;the;wall\n",
      "['Humpty', 'Dumpty', 'sat', 'on', 'the', 'wall']\n",
      "Humpty Dumpty sat on the wall\n"
     ]
    }
   ],
   "source": [
    "s = \"Humpty;Dumpty;sat;on;the;wall\"\n",
    "print ( s )\n",
    "wordlist = s.split( ';' )\n",
    "print ( wordlist )\n",
    "s = \" \".join( wordlist )\n",
    "print( s )"
   ]
  },
  {
   "cell_type": "markdown",
   "metadata": {},
   "source": [
    "## Time for exercise 3"
   ]
  },
  {
   "cell_type": "markdown",
   "metadata": {},
   "source": [
    "## Text Files"
   ]
  },
  {
   "cell_type": "markdown",
   "metadata": {},
   "source": [
    "-----"
   ]
  },
  {
   "cell_type": "markdown",
   "metadata": {},
   "source": [
    "## `open()` and `read()`"
   ]
  },
  {
   "cell_type": "code",
   "execution_count": 17,
   "metadata": {},
   "outputs": [
    {
     "name": "stdout",
     "output_type": "stream",
     "text": [
      "id = 0 - bootcamper name: Ufuk \n",
      "id = 1 - bootcamper name: Eline \n",
      "id = 2 - bootcamper name: Filip \n",
      "id = 3 - bootcamper name: Michael \n",
      "id = 4 - bootcamper name: Luka \n",
      "id = 5 - bootcamper name: Alexia \n",
      "id = 6 - bootcamper name: Daniela \n",
      "\n"
     ]
    }
   ],
   "source": [
    "file = open( \"bootcampers.txt\", \"r\")\n",
    "text = file.read()\n",
    "print(text)\n",
    "file.close()"
   ]
  },
  {
   "cell_type": "markdown",
   "metadata": {},
   "source": [
    "### Reading lines using `readline()`"
   ]
  },
  {
   "cell_type": "code",
   "execution_count": 18,
   "metadata": {},
   "outputs": [
    {
     "name": "stdout",
     "output_type": "stream",
     "text": [
      "id = 0 - bootcamper name: Ufuk \n",
      "\n",
      "id = 1 - bootcamper name: Eline \n",
      "\n",
      "id = 2 - bootcamper name: Filip \n",
      "\n",
      "id = 3 - bootcamper name: Michael \n",
      "\n",
      "id = 4 - bootcamper name: Luka \n",
      "\n",
      "id = 5 - bootcamper name: Alexia \n",
      "\n",
      "id = 6 - bootcamper name: Daniela \n",
      "\n"
     ]
    }
   ],
   "source": [
    "file = open( \"bootcampers.txt\" )\n",
    "while True:\n",
    "    line = file.readline()\n",
    "    if line == \"\":\n",
    "        break\n",
    "    print(line)\n",
    "file.close()"
   ]
  },
  {
   "cell_type": "markdown",
   "metadata": {},
   "source": [
    "### Reading lines using `readlines()`"
   ]
  },
  {
   "cell_type": "code",
   "execution_count": 19,
   "metadata": {},
   "outputs": [
    {
     "name": "stdout",
     "output_type": "stream",
     "text": [
      "id = 0 - bootcamper name: Ufuk \n",
      "id = 1 - bootcamper name: Eline \n",
      "id = 2 - bootcamper name: Filip \n",
      "id = 3 - bootcamper name: Michael \n",
      "id = 4 - bootcamper name: Luka \n",
      "id = 5 - bootcamper name: Alexia \n",
      "id = 6 - bootcamper name: Daniela \n"
     ]
    }
   ],
   "source": [
    "file = open( \"bootcampers.txt\" )\n",
    "lines = file.readlines()\n",
    "for line in lines:\n",
    "    print( line, end=\"\" )\n",
    "file.close()"
   ]
  },
  {
   "cell_type": "markdown",
   "metadata": {},
   "source": [
    "## with open() as f:"
   ]
  },
  {
   "cell_type": "code",
   "execution_count": 21,
   "metadata": {},
   "outputs": [
    {
     "name": "stdout",
     "output_type": "stream",
     "text": [
      "id = 0 - bootcamper name: Ufuk \n",
      "id = 1 - bootcamper name: Eline \n",
      "id = 2 - bootcamper name: Filip \n",
      "id = 3 - bootcamper name: Michael \n",
      "id = 4 - bootcamper name: Luka \n",
      "id = 5 - bootcamper name: Alexia \n",
      "id = 6 - bootcamper name: Daniela \n",
      "\n"
     ]
    }
   ],
   "source": [
    "with open(\"bootcampers.txt\") as file:\n",
    "    lines = file.read()\n",
    "print(lines)"
   ]
  },
  {
   "cell_type": "code",
   "execution_count": 23,
   "metadata": {},
   "outputs": [
    {
     "name": "stdout",
     "output_type": "stream",
     "text": [
      "id = 0 - bootcamper name: Ufuk \n",
      "id = 1 - bootcamper name: Eline \n",
      "id = 2 - bootcamper name: Filip \n",
      "id = 3 - bootcamper name: Michael \n",
      "id = 4 - bootcamper name: Luka \n",
      "id = 5 - bootcamper name: Alexia \n",
      "id = 6 - bootcamper name: Daniela \n"
     ]
    }
   ],
   "source": [
    "with open(\"bootcampers.txt\") as file:\n",
    "    for line in file:\n",
    "        print(line, end=\"\")"
   ]
  },
  {
   "cell_type": "markdown",
   "metadata": {},
   "source": [
    "### Writing using `write()`"
   ]
  },
  {
   "cell_type": "code",
   "execution_count": 5,
   "metadata": {},
   "outputs": [],
   "source": [
    "with open(\"bootcampers.txt\",\"w\") as f:\n",
    "    for i in range(len(bootcampers)):\n",
    "        line = \"id = {} - bootcamper name: {} \\n\".format(str(i), bootcampers[i])\n",
    "        f.write(line)"
   ]
  },
  {
   "cell_type": "markdown",
   "metadata": {},
   "source": [
    "## Lists"
   ]
  },
  {
   "cell_type": "markdown",
   "metadata": {},
   "source": [
    "-------"
   ]
  },
  {
   "cell_type": "code",
   "execution_count": 33,
   "metadata": {},
   "outputs": [
    {
     "name": "stdout",
     "output_type": "stream",
     "text": [
      "Netherlands\n",
      "Turkey\n",
      "USA\n",
      "France\n",
      "\n",
      "Country on index 2 is: USA\n"
     ]
    }
   ],
   "source": [
    "countries = [\"Netherlands\", \"Turkey\", \"USA\", \"France\"]\n",
    "for elem in countries:\n",
    "    print(elem)\n",
    "    \n",
    "print()\n",
    "print(\"Country on index 2 is:\", countries[2])"
   ]
  },
  {
   "cell_type": "code",
   "execution_count": 34,
   "metadata": {},
   "outputs": [
    {
     "name": "stdout",
     "output_type": "stream",
     "text": [
      "999\n",
      "129\n",
      "2645\n",
      "False\n",
      "True\n"
     ]
    }
   ],
   "source": [
    "numlist = [314, 315, 642, 246, 129, 999]\n",
    "print( max( numlist ) )\n",
    "print( min( numlist ) )\n",
    "print( sum( numlist ) )\n",
    "print( 100 in numlist )\n",
    "print( 999 in numlist )"
   ]
  },
  {
   "cell_type": "markdown",
   "metadata": {},
   "source": [
    "## Lists are mutable"
   ]
  },
  {
   "cell_type": "markdown",
   "metadata": {},
   "source": [
    "Because lists are mutable, you can change the contents of a list.\n",
    "\n",
    "To overwrite an element of a list, you can assign a new value to it."
   ]
  },
  {
   "cell_type": "code",
   "execution_count": 35,
   "metadata": {},
   "outputs": [
    {
     "name": "stdout",
     "output_type": "stream",
     "text": [
      "['Netherlands', 'Turkey', 'Mexico', 'France']\n"
     ]
    }
   ],
   "source": [
    "countries = [\"Netherlands\", \"Turkey\", \"USA\", \"France\"]\n",
    "countries[2] = \"Mexico\"\n",
    "print(countries)"
   ]
  },
  {
   "cell_type": "markdown",
   "metadata": {},
   "source": [
    "You can also overwrite list slices by assigning a new list to the slice. The slice you remove need not be of equal length to the new list you insert."
   ]
  },
  {
   "cell_type": "code",
   "execution_count": 37,
   "metadata": {},
   "outputs": [
    {
     "name": "stdout",
     "output_type": "stream",
     "text": [
      "['Netherlands', 'Turkey', 'USA', 'France']\n",
      "['Netherlands', 'Morocco', 'Algeria', 'Egypt', 'France']\n"
     ]
    }
   ],
   "source": [
    "countries = [\"Netherlands\", \"Turkey\", \"USA\", \"France\"]\n",
    "print(countries)\n",
    "countries[1:3] = [\"Morocco\",\"Algeria\",\"Egypt\"]\n",
    "print(countries)"
   ]
  },
  {
   "cell_type": "markdown",
   "metadata": {},
   "source": [
    "You can insert new elements into a list by assigning them to an zero-sized slice."
   ]
  },
  {
   "cell_type": "code",
   "execution_count": 38,
   "metadata": {},
   "outputs": [
    {
     "name": "stdout",
     "output_type": "stream",
     "text": [
      "['Netherlands', 'Turkey', 'USA', 'France']\n",
      "['Netherlands', 'Morocco', 'Algeria', 'Egypt', 'Turkey', 'USA', 'France']\n"
     ]
    }
   ],
   "source": [
    "countries = [\"Netherlands\", \"Turkey\", \"USA\", \"France\"]\n",
    "print(countries)\n",
    "countries[1:1] = [\"Morocco\",\"Algeria\",\"Egypt\"]\n",
    "print(countries)"
   ]
  },
  {
   "cell_type": "markdown",
   "metadata": {},
   "source": [
    "## List methods"
   ]
  },
  {
   "cell_type": "markdown",
   "metadata": {},
   "source": [
    "### `append()`"
   ]
  },
  {
   "cell_type": "code",
   "execution_count": 39,
   "metadata": {},
   "outputs": [
    {
     "name": "stdout",
     "output_type": "stream",
     "text": [
      "['Netherlands', 'Turkey', 'USA', 'France', 'Belgium']\n"
     ]
    }
   ],
   "source": [
    "countries = [\"Netherlands\", \"Turkey\", \"USA\", \"France\"]\n",
    "countries.append(\"Belgium\")\n",
    "print(countries)"
   ]
  },
  {
   "cell_type": "markdown",
   "metadata": {},
   "source": [
    "### `extend()`"
   ]
  },
  {
   "cell_type": "code",
   "execution_count": 40,
   "metadata": {},
   "outputs": [
    {
     "name": "stdout",
     "output_type": "stream",
     "text": [
      "['Netherlands', 'Turkey', 'USA', 'France']\n",
      "['Netherlands', 'Turkey', 'USA', 'France', 'Morocco', 'Algeria', 'Egypt']\n"
     ]
    }
   ],
   "source": [
    "countries = [\"Netherlands\", \"Turkey\", \"USA\", \"France\"]\n",
    "print(countries)\n",
    "countries.extend([\"Morocco\",\"Algeria\",\"Egypt\"])\n",
    "print(countries)"
   ]
  },
  {
   "cell_type": "markdown",
   "metadata": {},
   "source": [
    "### `insert()`"
   ]
  },
  {
   "cell_type": "code",
   "execution_count": 42,
   "metadata": {},
   "outputs": [
    {
     "name": "stdout",
     "output_type": "stream",
     "text": [
      "['Netherlands', 'Belgium', 'Turkey', 'USA', 'France']\n"
     ]
    }
   ],
   "source": [
    "countries = [\"Netherlands\", \"Turkey\", \"USA\", \"France\"]\n",
    "countries.insert(1, \"Belgium\")\n",
    "print(countries)"
   ]
  },
  {
   "cell_type": "markdown",
   "metadata": {},
   "source": [
    "### `remove()`"
   ]
  },
  {
   "cell_type": "code",
   "execution_count": 21,
   "metadata": {},
   "outputs": [
    {
     "name": "stdout",
     "output_type": "stream",
     "text": [
      "['Turkey', 'USA', 'France']\n"
     ]
    }
   ],
   "source": [
    "countries = [\"Netherlands\", \"Turkey\", \"USA\", \"France\"]\n",
    "countries.remove(\"Netherlands\")\n",
    "print(countries)"
   ]
  },
  {
   "cell_type": "markdown",
   "metadata": {},
   "source": [
    "### `pop()`"
   ]
  },
  {
   "cell_type": "code",
   "execution_count": 44,
   "metadata": {},
   "outputs": [
    {
     "name": "stdout",
     "output_type": "stream",
     "text": [
      "['Netherlands', 'Turkey', 'USA', 'France']\n",
      "France\n",
      "['Netherlands', 'Turkey', 'USA']\n",
      "Netherlands\n"
     ]
    }
   ],
   "source": [
    "countries = [\"Netherlands\", \"Turkey\", \"USA\", \"France\"]\n",
    "print(countries)\n",
    "print(countries.pop())\n",
    "print(countries)\n",
    "print(countries.pop(0))"
   ]
  },
  {
   "cell_type": "markdown",
   "metadata": {},
   "source": [
    "### `index()`"
   ]
  },
  {
   "cell_type": "code",
   "execution_count": 45,
   "metadata": {},
   "outputs": [
    {
     "name": "stdout",
     "output_type": "stream",
     "text": [
      "0\n"
     ]
    }
   ],
   "source": [
    "countries = [\"Netherlands\", \"Turkey\", \"USA\", \"France\"]\n",
    "print(countries.index(\"Netherlands\"))"
   ]
  },
  {
   "cell_type": "markdown",
   "metadata": {},
   "source": [
    "### ``sort()``"
   ]
  },
  {
   "cell_type": "code",
   "execution_count": 48,
   "metadata": {},
   "outputs": [
    {
     "name": "stdout",
     "output_type": "stream",
     "text": [
      "['France', 'Netherlands', 'Turkey', 'USA']\n"
     ]
    }
   ],
   "source": [
    "countries = [\"Netherlands\", \"Turkey\", \"USA\", \"France\"]\n",
    "countries.sort()\n",
    "print(countries)"
   ]
  },
  {
   "cell_type": "code",
   "execution_count": 50,
   "metadata": {},
   "outputs": [
    {
     "name": "stdout",
     "output_type": "stream",
     "text": [
      "['america', 'CHINA', 'France', 'Netherlands', 'Turkey', 'USA']\n"
     ]
    }
   ],
   "source": [
    "countries = [\"Netherlands\", \"Turkey\", \"USA\", \"France\",\"america\",\"CHINA\"]\n",
    "countries.sort(key=str.lower)\n",
    "print(countries)"
   ]
  },
  {
   "cell_type": "code",
   "execution_count": 51,
   "metadata": {},
   "outputs": [
    {
     "name": "stdout",
     "output_type": "stream",
     "text": [
      "[999, 642, 315, 314, 246, 129]\n"
     ]
    }
   ],
   "source": [
    "numlist = [314, 315, 642, 246, 129, 999]\n",
    "numlist.sort(reverse=True)\n",
    "print(numlist)"
   ]
  },
  {
   "cell_type": "markdown",
   "metadata": {},
   "source": [
    "## List comprehensions"
   ]
  },
  {
   "cell_type": "markdown",
   "metadata": {},
   "source": [
    "List comprehensions are a concise way to create lists. They are typical for Python, but you do not find them in many other programming languages. They are not actually needed, as you can use functions to achieve the same effect"
   ]
  },
  {
   "cell_type": "code",
   "execution_count": 52,
   "metadata": {},
   "outputs": [
    {
     "name": "stdout",
     "output_type": "stream",
     "text": [
      "[1, 4, 9, 16, 25, 36, 49, 64, 81, 100, 121, 144, 169, 196, 225, 256, 289, 324, 361, 400, 441, 484, 529, 576, 625]\n"
     ]
    }
   ],
   "source": [
    "squares = []\n",
    "for i in range( 1, 26 ):\n",
    "    squares.append( i*i )\n",
    "\n",
    "print(squares)"
   ]
  },
  {
   "cell_type": "code",
   "execution_count": 57,
   "metadata": {},
   "outputs": [
    {
     "name": "stdout",
     "output_type": "stream",
     "text": [
      "[1, 4, 9, 16, 25, 36, 49, 64, 81, 100, 121, 144, 169, 196, 225, 256, 289, 324, 361, 400, 441, 484, 529, 576, 625]\n"
     ]
    }
   ],
   "source": [
    "squares = [i*i for i in range(1,26)]\n",
    "print(squares)"
   ]
  },
  {
   "cell_type": "markdown",
   "metadata": {},
   "source": [
    "## Time for exercise 4"
   ]
  },
  {
   "cell_type": "markdown",
   "metadata": {},
   "source": [
    "## Dictionaries"
   ]
  },
  {
   "cell_type": "code",
   "execution_count": 92,
   "metadata": {},
   "outputs": [
    {
     "name": "stdout",
     "output_type": "stream",
     "text": [
      "key : Nazli,value : 28\n",
      "key : Inan,value : 35\n",
      "key : Dana,value : 26\n",
      "\n",
      "35\n",
      "40\n"
     ]
    }
   ],
   "source": [
    "first_dict = {\"Nazli\": 28, \"Inan\": 35, \"Dana\": 26}\n",
    "\n",
    "for key,value in first_dict.items():\n",
    "    print(\"key : {0},value : {1}\".format(key,value))\n",
    "\n",
    "print()\n",
    "print(first_dict[\"Inan\"])\n",
    "first_dict[\"Inan\"] = 40\n",
    "print(first_dict[\"Inan\"])"
   ]
  },
  {
   "cell_type": "markdown",
   "metadata": {},
   "source": [
    "### `keys()`, `values()`, and `items()`"
   ]
  },
  {
   "cell_type": "markdown",
   "metadata": {},
   "source": [
    "The method `keys()` provides an iterator that lists all the keys of a dictionary. The method `values()` provides an iterator that lists all the values of a dictionary. The method `items()` provides an iterator that lists all the key-value pairs of a dictionary as tuples."
   ]
  },
  {
   "cell_type": "code",
   "execution_count": 69,
   "metadata": {},
   "outputs": [
    {
     "name": "stdout",
     "output_type": "stream",
     "text": [
      "['Nazli', 'Inan', 'Dana']\n",
      "[28, 35, 26]\n",
      "[('Nazli', 28), ('Inan', 35), ('Dana', 26)]\n"
     ]
    }
   ],
   "source": [
    "first_dict = {\"Nazli\": 28, \"Inan\": 35, \"Dana\": 26}\n",
    "\n",
    "print(list(first_dict.keys()))\n",
    "print(list(first_dict.values()))\n",
    "print(list(first_dict.items()))"
   ]
  },
  {
   "cell_type": "markdown",
   "metadata": {},
   "source": [
    "### `get()`"
   ]
  },
  {
   "cell_type": "markdown",
   "metadata": {},
   "source": [
    "The `get()` method can be used to get a value from a dictionary even when you do not know if the key for which you seek the value exists. You call the `get()` method with the key you are looking for, and it will return the corresponding value when the key exists in the dictionary, or the special value `None` when the key does not exist in the dictionary. If you want to return a specific value instead of `None` if the key does not exist, you can add that value as a second argument to the method."
   ]
  },
  {
   "cell_type": "code",
   "execution_count": 72,
   "metadata": {},
   "outputs": [
    {
     "name": "stdout",
     "output_type": "stream",
     "text": [
      "Dana is 26 years old\n"
     ]
    }
   ],
   "source": [
    "first_dict = {\"Nazli\": 28, \"Inan\": 35, \"Dana\": 26}\n",
    "\n",
    "age_dana = first_dict.get(\"Dana\", -1)\n",
    "print(\"Dana is {} years old\".format(age_dana))"
   ]
  },
  {
   "cell_type": "markdown",
   "metadata": {},
   "source": [
    "## Dictionary Comprehension"
   ]
  },
  {
   "cell_type": "markdown",
   "metadata": {},
   "source": [
    "dict_variable = {key:value for (key,value) in dictonary.items()}"
   ]
  },
  {
   "cell_type": "code",
   "execution_count": 88,
   "metadata": {},
   "outputs": [
    {
     "name": "stdout",
     "output_type": "stream",
     "text": [
      "key : Nazli,value : 29\n",
      "key : Inan,value : 36\n",
      "key : Dana,value : 27\n"
     ]
    }
   ],
   "source": [
    "first_dict_2 = {key:value + 1 for (key,value) in first_dict.items()}\n",
    "\n",
    "for key,value in first_dict_2.items():\n",
    "    print(\"key : {0},value : {1}\".format(key,value))"
   ]
  },
  {
   "cell_type": "code",
   "execution_count": 74,
   "metadata": {},
   "outputs": [
    {
     "name": "stdout",
     "output_type": "stream",
     "text": [
      "{'filip': 3, 'Ufuk': 7, 'michael': 4, 'alexia': 5}\n"
     ]
    }
   ],
   "source": [
    "# Word counts.\n",
    "names_list = [\"filip\",\"Ufuk\",\"michael\",\"Ufuk\",\"alexia\",\"Ufuk\",\"alexia\",\"Ufuk\",\"michael\",\n",
    "            \"alexia\",\"alexia\",\"filip\",\"Ufuk\",\"alexia\",\"Ufuk\",\"michael\",\"filip\",\"michael\",\"Ufuk\"]\n",
    "\n",
    "name_dict = {name:names_list.count(name) for name in names_list}\n",
    "\n",
    "print(name_dict)"
   ]
  },
  {
   "cell_type": "markdown",
   "metadata": {},
   "source": [
    "## nested Dictionaries"
   ]
  },
  {
   "cell_type": "code",
   "execution_count": 23,
   "metadata": {},
   "outputs": [
    {
     "name": "stdout",
     "output_type": "stream",
     "text": [
      "client id 123: Shell (Amsterdam)\n",
      "Anis: 4\n",
      "William: 5\n",
      "\n",
      "client id 124: ASML (Veldhoven)\n",
      "Nazli: 5\n",
      "Meazer: 5\n",
      "Inan: 5\n",
      "\n",
      "client id 125: Transavia (Schiphol)\n",
      "Angel: 8\n",
      "Vincent: 2\n",
      "\n"
     ]
    }
   ],
   "source": [
    "clients = {\n",
    "    '123': \n",
    "    { \"name\":\"Shell\", \"location\":\"Amsterdam\", \n",
    "      \"employees\":{'Anis':4, 'William':5} }, \n",
    "    '124': \n",
    "    { \"name\":\"ASML\", \"location\":\"Veldhoven\",\n",
    "     \"employees\":{'Nazli':5, 'Meazer':5, 'Inan':5} }, \n",
    "    '125': \n",
    "    { \"name\":\"Transavia\", \"location\":\"Schiphol\",\n",
    "     \"employees\":{'Angel':8, \"Vincent\":2} } }\n",
    "\n",
    "for c in clients:\n",
    "    print( \"client id {}: {} ({})\".format( c, clients[c][\"name\"], clients[c][\"location\"] ) )\n",
    "    for s in clients[c][\"employees\"]:\n",
    "        print( \"{}: {}\".format( s, clients[c][\"employees\"][s] ) )\n",
    "    print()\n",
    "    \n",
    "# print(clients[\"123\"][\"name\"])"
   ]
  },
  {
   "cell_type": "markdown",
   "metadata": {},
   "source": [
    "## Time for exercise 5"
   ]
  },
  {
   "cell_type": "markdown",
   "metadata": {},
   "source": [
    "## Tuples"
   ]
  },
  {
   "cell_type": "markdown",
   "metadata": {},
   "source": [
    "-------"
   ]
  },
  {
   "cell_type": "code",
   "execution_count": 127,
   "metadata": {},
   "outputs": [
    {
     "name": "stdout",
     "output_type": "stream",
     "text": [
      "<class 'tuple'>\n",
      "Nazli\n",
      "('Nazli', 'linkit', 9)\n",
      "(3554, 9, 'Rijnzathe', 'linkit', 2020, 'Nazli', 'Anis')\n",
      "Anis\n",
      "Nazli\n",
      "2020\n",
      "linkit\n",
      "Rijnzathe\n",
      "9\n",
      "3554\n"
     ]
    }
   ],
   "source": [
    "t = (\"Anis\",\"Nazli\",2020, \"linkit\", \"Rijnzathe\", 9, 3554)\n",
    "print(type(t))\n",
    "print(t[1])\n",
    "print(t[1::2])\n",
    "print(t[::-1])\n",
    "print()\n",
    "\n",
    "for elem in t:\n",
    "    print(elem)"
   ]
  },
  {
   "cell_type": "markdown",
   "metadata": {},
   "source": [
    "### Tuples are immutable"
   ]
  },
  {
   "cell_type": "code",
   "execution_count": 123,
   "metadata": {},
   "outputs": [
    {
     "ename": "TypeError",
     "evalue": "'tuple' object does not support item assignment",
     "output_type": "error",
     "traceback": [
      "\u001b[0;31m---------------------------------------------------------------------------\u001b[0m",
      "\u001b[0;31mTypeError\u001b[0m                                 Traceback (most recent call last)",
      "\u001b[0;32m<ipython-input-123-57490803a269>\u001b[0m in \u001b[0;36m<module>\u001b[0;34m\u001b[0m\n\u001b[1;32m      1\u001b[0m \u001b[0mt\u001b[0m \u001b[0;34m=\u001b[0m \u001b[0;34m(\u001b[0m\u001b[0;34m\"Anis\"\u001b[0m\u001b[0;34m,\u001b[0m\u001b[0;34m\"Nazli\"\u001b[0m\u001b[0;34m,\u001b[0m\u001b[0;36m2020\u001b[0m\u001b[0;34m,\u001b[0m \u001b[0;34m\"linkit\"\u001b[0m\u001b[0;34m,\u001b[0m \u001b[0;34m\"Rijnzathe\"\u001b[0m\u001b[0;34m,\u001b[0m \u001b[0;36m9\u001b[0m\u001b[0;34m,\u001b[0m \u001b[0;36m3554\u001b[0m\u001b[0;34m)\u001b[0m\u001b[0;34m\u001b[0m\u001b[0;34m\u001b[0m\u001b[0m\n\u001b[0;32m----> 2\u001b[0;31m \u001b[0mt\u001b[0m\u001b[0;34m[\u001b[0m\u001b[0;36m2\u001b[0m\u001b[0;34m]\u001b[0m \u001b[0;34m=\u001b[0m \u001b[0;34m\"Filip\"\u001b[0m\u001b[0;34m\u001b[0m\u001b[0;34m\u001b[0m\u001b[0m\n\u001b[0m",
      "\u001b[0;31mTypeError\u001b[0m: 'tuple' object does not support item assignment"
     ]
    }
   ],
   "source": [
    "t = (\"Anis\",\"Nazli\",2020, \"linkit\", \"Rijnzathe\", 9, 3554)\n",
    "t[2] = \"Filip\""
   ]
  },
  {
   "cell_type": "markdown",
   "metadata": {},
   "source": [
    "# note"
   ]
  },
  {
   "cell_type": "code",
   "execution_count": 125,
   "metadata": {},
   "outputs": [
    {
     "name": "stdout",
     "output_type": "stream",
     "text": [
      "<class 'tuple'>\n",
      "<class 'tuple'>\n",
      "<class 'int'>\n"
     ]
    }
   ],
   "source": [
    "t = ()\n",
    "print(type(t))\n",
    "\n",
    "t = (1,2)\n",
    "print(type(t))\n",
    "\n",
    "t = (1)\n",
    "print(type(t))"
   ]
  },
  {
   "cell_type": "code",
   "execution_count": 128,
   "metadata": {},
   "outputs": [
    {
     "name": "stdout",
     "output_type": "stream",
     "text": [
      "<class 'tuple'>\n",
      "(1,)\n"
     ]
    }
   ],
   "source": [
    "t = (1,)\n",
    "print(type(t))\n",
    "print(t)"
   ]
  },
  {
   "cell_type": "markdown",
   "metadata": {},
   "source": [
    "## tuple unpacking"
   ]
  },
  {
   "cell_type": "code",
   "execution_count": 129,
   "metadata": {},
   "outputs": [
    {
     "name": "stdout",
     "output_type": "stream",
     "text": [
      "linkit\n"
     ]
    }
   ],
   "source": [
    "t = (\"Anis\",\"Nazli\",2020, \"linkit\", \"Rijnzathe\", 9, 3554)\n",
    "name1, name2, year, company, street, nr, zip_code = t\n",
    "print(company)"
   ]
  },
  {
   "cell_type": "markdown",
   "metadata": {},
   "source": [
    "## Sets"
   ]
  },
  {
   "cell_type": "markdown",
   "metadata": {},
   "source": [
    "-------"
   ]
  },
  {
   "cell_type": "code",
   "execution_count": 159,
   "metadata": {},
   "outputs": [
    {
     "name": "stdout",
     "output_type": "stream",
     "text": [
      "{1, 2, 3, 4, 5, 6, 7, 8, 56}\n"
     ]
    }
   ],
   "source": [
    "random_numbers = set((1,2,3,4,4,5,56,6,56,7,8))\n",
    "print(random_numbers)"
   ]
  },
  {
   "cell_type": "code",
   "execution_count": 131,
   "metadata": {},
   "outputs": [
    {
     "name": "stdout",
     "output_type": "stream",
     "text": [
      "{1, 2, 3, 4, 5, 6, 7, 8, 12, 56}\n"
     ]
    }
   ],
   "source": [
    "random_numbers = set((1,2,3,4,4,5,56,6,56,7,8)) #set constructor\n",
    "random_numbers.add(12)\n",
    "print(random_numbers)"
   ]
  },
  {
   "cell_type": "code",
   "execution_count": 143,
   "metadata": {},
   "outputs": [
    {
     "name": "stdout",
     "output_type": "stream",
     "text": [
      "{'John', 'Mo', 'Anis', 'Lisa'}\n"
     ]
    }
   ],
   "source": [
    "names = {\"John\",\"Lisa\",\"Mo\",\"Mo\",\"Anis\"}\n",
    "print(names)"
   ]
  },
  {
   "cell_type": "code",
   "execution_count": 175,
   "metadata": {},
   "outputs": [
    {
     "name": "stdout",
     "output_type": "stream",
     "text": [
      "{'Archil', 'Arjun', 'Idrish', 'Jay', 'Karan'}\n"
     ]
    }
   ],
   "source": [
    "people = {\"Jay\", \"Idrish\", \"Archil\",\"Arjun\"}\n",
    "vampires = {\"Karan\", \"Arjun\"}\n",
    "population = people.union(vampires)\n",
    "print(population)"
   ]
  },
  {
   "cell_type": "code",
   "execution_count": 182,
   "metadata": {},
   "outputs": [
    {
     "name": "stdout",
     "output_type": "stream",
     "text": [
      "{1, 2, 3, 4, 5}\n",
      "{2, 3}\n",
      "{1}\n"
     ]
    }
   ],
   "source": [
    "n1 = {1,2,3}\n",
    "n2 = {3,4,5,2}\n",
    "uni = n1.union(n2)\n",
    "intersect = n1.intersection(n2)\n",
    "diff = n1.difference(n2)\n",
    "print(uni)\n",
    "print(intersect)\n",
    "print(diff)"
   ]
  },
  {
   "cell_type": "code",
   "execution_count": null,
   "metadata": {},
   "outputs": [],
   "source": []
  }
 ],
 "metadata": {
  "kernelspec": {
   "display_name": "Python 3",
   "language": "python",
   "name": "python3"
  },
  "language_info": {
   "codemirror_mode": {
    "name": "ipython",
    "version": 3
   },
   "file_extension": ".py",
   "mimetype": "text/x-python",
   "name": "python",
   "nbconvert_exporter": "python",
   "pygments_lexer": "ipython3",
   "version": "3.7.3"
  }
 },
 "nbformat": 4,
 "nbformat_minor": 2
}
